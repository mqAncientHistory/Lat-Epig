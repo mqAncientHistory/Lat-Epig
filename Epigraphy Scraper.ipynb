{
 "cells": [
  {
   "cell_type": "code",
   "execution_count": 2,
   "metadata": {},
   "outputs": [
    {
     "name": "stdout",
     "output_type": "stream",
     "text": [
      "Package                            Version  \n",
      "---------------------------------- ---------\n",
      "alabaster                          0.7.12   \n",
      "anaconda-client                    1.7.2    \n",
      "anaconda-navigator                 1.9.7    \n",
      "anaconda-project                   0.8.3    \n",
      "asn1crypto                         0.24.0   \n",
      "astroid                            2.2.5    \n",
      "astropy                            3.2.1    \n",
      "atomicwrites                       1.3.0    \n",
      "attrs                              19.1.0   \n",
      "Babel                              2.7.0    \n",
      "backcall                           0.1.0    \n",
      "backports.functools-lru-cache      1.5      \n",
      "backports.os                       0.1.1    \n",
      "backports.shutil-get-terminal-size 1.0.0    \n",
      "backports.tempfile                 1.0      \n",
      "backports.weakref                  1.0.post1\n",
      "beautifulsoup4                     4.7.1    \n",
      "bitarray                           0.9.3    \n",
      "bkcharts                           0.2      \n",
      "bleach                             3.1.0    \n",
      "bokeh                              1.2.0    \n",
      "boto                               2.49.0   \n",
      "Bottleneck                         1.2.1    \n",
      "certifi                            2019.6.16\n",
      "cffi                               1.12.3   \n",
      "chardet                            3.0.4    \n",
      "Click                              7.0      \n",
      "cloudpickle                        1.2.1    \n",
      "clyent                             1.2.2    \n",
      "colorama                           0.4.1    \n",
      "comtypes                           1.1.7    \n",
      "conda                              4.7.10   \n",
      "conda-build                        3.18.8   \n",
      "conda-package-handling             1.3.11   \n",
      "conda-verify                       3.4.2    \n",
      "contextlib2                        0.5.5    \n",
      "cryptography                       2.7      \n",
      "cycler                             0.10.0   \n",
      "Cython                             0.29.12  \n",
      "cytoolz                            0.10.0   \n",
      "dask                               2.1.0    \n",
      "decorator                          4.4.0    \n",
      "defusedxml                         0.6.0    \n",
      "distributed                        2.1.0    \n",
      "docutils                           0.14     \n",
      "entrypoints                        0.3      \n",
      "et-xmlfile                         1.0.1    \n",
      "fastcache                          1.1.0    \n",
      "filelock                           3.0.12   \n",
      "Flask                              1.1.1    \n",
      "future                             0.17.1   \n",
      "gevent                             1.4.0    \n",
      "glob2                              0.7      \n",
      "greenlet                           0.4.15   \n",
      "h5py                               2.9.0    \n",
      "heapdict                           1.0.0    \n",
      "html5lib                           1.0.1    \n",
      "idna                               2.8      \n",
      "imageio                            2.5.0    \n",
      "imagesize                          1.1.0    \n",
      "importlib-metadata                 0.17     \n",
      "ipykernel                          5.1.1    \n",
      "ipython                            7.6.1    \n",
      "ipython-genutils                   0.2.0    \n",
      "ipywidgets                         7.5.0    \n",
      "isort                              4.3.21   \n",
      "itsdangerous                       1.1.0    \n",
      "jdcal                              1.4.1    \n",
      "jedi                               0.13.3   \n",
      "Jinja2                             2.10.1   \n",
      "joblib                             0.13.2   \n",
      "json5                              0.8.4    \n",
      "jsonschema                         3.0.1    \n",
      "jupyter                            1.0.0    \n",
      "jupyter-client                     5.3.1    \n",
      "jupyter-console                    6.0.0    \n",
      "jupyter-core                       4.5.0    \n",
      "jupyterlab                         1.0.2    \n",
      "jupyterlab-server                  1.0.0    \n",
      "keyring                            18.0.0   \n",
      "kiwisolver                         1.1.0    \n",
      "lazy-object-proxy                  1.4.1    \n",
      "libarchive-c                       2.8      \n",
      "llvmlite                           0.29.0   \n",
      "locket                             0.2.0    \n",
      "lxml                               4.3.4    \n",
      "MarkupSafe                         1.1.1    \n",
      "matplotlib                         3.1.0    \n",
      "mccabe                             0.6.1    \n",
      "MechanicalSoup                     0.11.0   \n",
      "menuinst                           1.4.16   \n",
      "mistune                            0.8.4    \n",
      "mkl-fft                            1.0.12   \n",
      "mkl-random                         1.0.2    \n",
      "mkl-service                        2.0.2    \n",
      "mock                               3.0.5    \n",
      "more-itertools                     7.0.0    \n",
      "mpmath                             1.1.0    \n",
      "msgpack                            0.6.1    \n",
      "multipledispatch                   0.6.0    \n",
      "navigator-updater                  0.2.1    \n",
      "nbconvert                          5.5.0    \n",
      "nbformat                           4.4.0    \n",
      "networkx                           2.3      \n",
      "nltk                               3.4.4    \n",
      "nose                               1.3.7    \n",
      "notebook                           6.0.0    \n",
      "numba                              0.44.1   \n",
      "numexpr                            2.6.9    \n",
      "numpy                              1.16.4   \n",
      "numpydoc                           0.9.1    \n",
      "olefile                            0.46     \n",
      "openpyxl                           2.6.2    \n",
      "packaging                          19.0     \n",
      "pandas                             0.24.2   \n",
      "pandocfilters                      1.4.2    \n",
      "parso                              0.5.0    \n",
      "partd                              1.0.0    \n",
      "path.py                            12.0.1   \n",
      "pathlib2                           2.3.4    \n",
      "patsy                              0.5.1    \n",
      "pep8                               1.7.1    \n",
      "pickleshare                        0.7.5    \n",
      "Pillow                             6.1.0    \n",
      "pip                                19.1.1   \n",
      "pkginfo                            1.5.0.1  \n",
      "pluggy                             0.12.0   \n",
      "ply                                3.11     \n",
      "prometheus-client                  0.7.1    \n",
      "prompt-toolkit                     2.0.9    \n",
      "psutil                             5.6.3    \n",
      "py                                 1.8.0    \n",
      "pycodestyle                        2.5.0    \n",
      "pycosat                            0.6.3    \n",
      "pycparser                          2.19     \n",
      "pycrypto                           2.6.1    \n",
      "pycurl                             7.43.0.3 \n",
      "pyflakes                           2.1.1    \n",
      "Pygments                           2.4.2    \n",
      "pylint                             2.3.1    \n",
      "pyodbc                             4.0.26   \n",
      "pyOpenSSL                          19.0.0   \n",
      "pyparsing                          2.4.0    \n",
      "pyreadline                         2.1      \n",
      "pyrsistent                         0.14.11  \n",
      "PySocks                            1.7.0    \n",
      "pytest                             5.0.1    \n",
      "pytest-arraydiff                   0.3      \n",
      "pytest-astropy                     0.5.0    \n",
      "pytest-doctestplus                 0.3.0    \n",
      "pytest-openfiles                   0.3.2    \n",
      "pytest-remotedata                  0.3.1    \n",
      "python-dateutil                    2.8.0    \n",
      "pytz                               2019.1   \n",
      "PyWavelets                         1.0.3    \n",
      "pywin32                            223      \n",
      "pywinpty                           0.5.5    \n",
      "PyYAML                             5.1.1    \n",
      "pyzmq                              18.0.0   \n",
      "QtAwesome                          0.5.7    \n",
      "qtconsole                          4.5.1    \n",
      "QtPy                               1.8.0    \n",
      "requests                           2.22.0   \n",
      "rope                               0.14.0   \n",
      "ruamel-yaml                        0.15.46  \n",
      "scikit-image                       0.15.0   \n",
      "scikit-learn                       0.21.2   \n",
      "scipy                              1.2.1    \n",
      "seaborn                            0.9.0    \n",
      "Send2Trash                         1.5.0    \n",
      "setuptools                         41.0.1   \n",
      "simplegeneric                      0.8.1    \n",
      "singledispatch                     3.4.0.3  \n",
      "six                                1.12.0   \n",
      "snowballstemmer                    1.9.0    \n",
      "sortedcollections                  1.1.2    \n",
      "sortedcontainers                   2.1.0    \n",
      "soupsieve                          1.8      \n",
      "Sphinx                             2.1.2    \n",
      "sphinxcontrib-applehelp            1.0.1    \n",
      "sphinxcontrib-devhelp              1.0.1    \n",
      "sphinxcontrib-htmlhelp             1.0.2    \n",
      "sphinxcontrib-jsmath               1.0.1    \n",
      "sphinxcontrib-qthelp               1.0.2    \n",
      "sphinxcontrib-serializinghtml      1.1.3    \n",
      "sphinxcontrib-websupport           1.1.2    \n",
      "spyder                             3.3.6    \n",
      "spyder-kernels                     0.5.1    \n",
      "SQLAlchemy                         1.3.5    \n",
      "statsmodels                        0.10.0   \n",
      "sympy                              1.4      \n",
      "tables                             3.5.2    \n",
      "tblib                              1.4.0    \n",
      "terminado                          0.8.2    \n",
      "testpath                           0.4.2    \n",
      "toolz                              0.10.0   \n",
      "tornado                            6.0.3    \n",
      "tqdm                               4.32.1   \n",
      "traitlets                          4.3.2    \n",
      "unicodecsv                         0.14.1   \n",
      "urllib3                            1.24.2   \n",
      "wcwidth                            0.1.7    \n",
      "webencodings                       0.5.1    \n",
      "Werkzeug                           0.15.4   \n",
      "wheel                              0.33.4   \n",
      "widgetsnbextension                 3.5.0    \n",
      "win-inet-pton                      1.1.0    \n",
      "win-unicode-console                0.5      \n",
      "wincertstore                       0.2      \n",
      "wrapt                              1.11.2   \n",
      "xlrd                               1.2.0    \n",
      "XlsxWriter                         1.1.8    \n",
      "xlwings                            0.15.8   \n",
      "xlwt                               1.3.0    \n",
      "zict                               1.0.0    \n",
      "zipp                               0.5.1    \n",
      "Note: you may need to restart the kernel to use updated packages.\n"
     ]
    }
   ],
   "source": [
    "pip list # lists all available libraries"
   ]
  },
  {
   "cell_type": "code",
   "execution_count": 3,
   "metadata": {
    "scrolled": false
   },
   "outputs": [
    {
     "name": "stdout",
     "output_type": "stream",
     "text": [
      "Note: you may need to restart the kernel to use updated packages.\n"
     ]
    },
    {
     "name": "stderr",
     "output_type": "stream",
     "text": [
      "ERROR: Invalid requirement: '#'\n",
      "\n"
     ]
    }
   ],
   "source": [
    "pip install -r requirements.txt # calls the textfile where all the needed libraries are listed"
   ]
  },
  {
   "cell_type": "code",
   "execution_count": 4,
   "metadata": {},
   "outputs": [
    {
     "name": "stdout",
     "output_type": "stream",
     "text": [
      "Note: you may need to restart the kernel to use updated packages.\n"
     ]
    },
    {
     "name": "stderr",
     "output_type": "stream",
     "text": [
      "ERROR: Invalid requirement: '#'\n",
      "\n"
     ]
    }
   ],
   "source": [
    "pip install MechanicalSoup # installs mechanical soup library"
   ]
  },
  {
   "cell_type": "code",
   "execution_count": 5,
   "metadata": {},
   "outputs": [
    {
     "data": {
      "text/html": [
       "<h1>Scraper</h1>"
      ],
      "text/plain": [
       "<IPython.core.display.HTML object>"
      ]
     },
     "metadata": {},
     "output_type": "display_data"
    },
    {
     "data": {
      "application/vnd.jupyter.widget-view+json": {
       "model_id": "8fa17f97ec224893b6c87119584d25e2",
       "version_major": 2,
       "version_minor": 0
      },
      "text/plain": [
       "Text(value='', description='Text 1:')"
      ]
     },
     "metadata": {},
     "output_type": "display_data"
    },
    {
     "data": {
      "application/vnd.jupyter.widget-view+json": {
       "model_id": "84c8b757368b4e8a8a35c32228bb071c",
       "version_major": 2,
       "version_minor": 0
      },
      "text/plain": [
       "ToggleButtons(description='Operator', options=('and', 'or', 'not'), value='and')"
      ]
     },
     "metadata": {},
     "output_type": "display_data"
    },
    {
     "data": {
      "application/vnd.jupyter.widget-view+json": {
       "model_id": "051c45c0158d42da80fe0cd5002add6c",
       "version_major": 2,
       "version_minor": 0
      },
      "text/plain": [
       "Text(value='', description='Text 2:')"
      ]
     },
     "metadata": {},
     "output_type": "display_data"
    },
    {
     "data": {
      "application/vnd.jupyter.widget-view+json": {
       "model_id": "eaa6b064614d43148ab0f11a59dc9c4a",
       "version_major": 2,
       "version_minor": 0
      },
      "text/plain": [
       "Text(value='', description='EDCS-ID:')"
      ]
     },
     "metadata": {},
     "output_type": "display_data"
    },
    {
     "data": {
      "application/vnd.jupyter.widget-view+json": {
       "model_id": "0624c3ebcfa645bc8f1b74b6aded22e0",
       "version_major": 2,
       "version_minor": 0
      },
      "text/plain": [
       "Text(value='', description='Publication:')"
      ]
     },
     "metadata": {},
     "output_type": "display_data"
    },
    {
     "data": {
      "application/vnd.jupyter.widget-view+json": {
       "model_id": "91115055743141fa857bdb8d15d0ddc3",
       "version_major": 2,
       "version_minor": 0
      },
      "text/plain": [
       "Text(value='', description='Place:')"
      ]
     },
     "metadata": {},
     "output_type": "display_data"
    },
    {
     "data": {
      "application/vnd.jupyter.widget-view+json": {
       "model_id": "7d377ced9ac647f9826396588ca82949",
       "version_major": 2,
       "version_minor": 0
      },
      "text/plain": [
       "Text(value='', description='dating from:')"
      ]
     },
     "metadata": {},
     "output_type": "display_data"
    },
    {
     "data": {
      "application/vnd.jupyter.widget-view+json": {
       "model_id": "e85a4b20b60d400c82686be04a33ae0c",
       "version_major": 2,
       "version_minor": 0
      },
      "text/plain": [
       "Text(value='', description='dating to:')"
      ]
     },
     "metadata": {},
     "output_type": "display_data"
    },
    {
     "data": {
      "text/html": [
       "<div>Shift or Control click to select multiple in these lists</div>"
      ],
      "text/plain": [
       "<IPython.core.display.HTML object>"
      ]
     },
     "metadata": {},
     "output_type": "display_data"
    },
    {
     "data": {
      "application/vnd.jupyter.widget-view+json": {
       "model_id": "1bf0be853a79454d98e4868592453348",
       "version_major": 2,
       "version_minor": 0
      },
      "text/plain": [
       "SelectMultiple(description='Province:', options=(None, 'Achaia', 'Aegyptus', 'Africa proconsularis', 'Alpes Co…"
      ]
     },
     "metadata": {},
     "output_type": "display_data"
    },
    {
     "data": {
      "application/vnd.jupyter.widget-view+json": {
       "model_id": "a8299acd3d6941dbb7221ee5b20f007b",
       "version_major": 2,
       "version_minor": 0
      },
      "text/plain": [
       "Button(description='Inscription Genus...', style=ButtonStyle())"
      ]
     },
     "metadata": {},
     "output_type": "display_data"
    },
    {
     "data": {
      "application/vnd.jupyter.widget-view+json": {
       "model_id": "8f9ca084f538482990aec0c66315cf17",
       "version_major": 2,
       "version_minor": 0
      },
      "text/plain": [
       "SelectMultiple(description='inscription genus / personal status:', layout=Layout(display='none'), options=(Non…"
      ]
     },
     "metadata": {},
     "output_type": "display_data"
    },
    {
     "data": {
      "application/vnd.jupyter.widget-view+json": {
       "model_id": "8c682e507cf04ec88b7a6c468211c452",
       "version_major": 2,
       "version_minor": 0
      },
      "text/plain": [
       "SelectMultiple(description='and not:', layout=Layout(display='none'), options=(None, 'carmina', 'sigilla impre…"
      ]
     },
     "metadata": {},
     "output_type": "display_data"
    },
    {
     "data": {
      "application/vnd.jupyter.widget-view+json": {
       "model_id": "2f97ff6aeea34238b2955a0bcea9a305",
       "version_major": 2,
       "version_minor": 0
      },
      "text/plain": [
       "Button(description='Scrape!', style=ButtonStyle())"
      ]
     },
     "metadata": {},
     "output_type": "display_data"
    }
   ],
   "source": [
    "import interface                     # loads the user friendly GUI\n",
    "interface.makeScrapeInterface()"
   ]
  },
  {
   "cell_type": "code",
   "execution_count": null,
   "metadata": {},
   "outputs": [],
   "source": []
  },
  {
   "cell_type": "code",
   "execution_count": null,
   "metadata": {},
   "outputs": [],
   "source": []
  }
 ],
 "metadata": {
  "kernelspec": {
   "display_name": "Python 3",
   "language": "python",
   "name": "python3"
  },
  "language_info": {
   "codemirror_mode": {
    "name": "ipython",
    "version": 3
   },
   "file_extension": ".py",
   "mimetype": "text/x-python",
   "name": "python",
   "nbconvert_exporter": "python",
   "pygments_lexer": "ipython3",
   "version": "3.7.3"
  }
 },
 "nbformat": 4,
 "nbformat_minor": 2
}
