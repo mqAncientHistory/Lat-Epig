{
 "cells": [
  {
   "cell_type": "code",
   "execution_count": 20,
   "metadata": {},
   "outputs": [
    {
     "name": "stdout",
     "output_type": "stream",
     "text": [
      "Package                            Version  \r\n",
      "---------------------------------- ---------\r\n",
      "alabaster                          0.7.12   \r\n",
      "anaconda-client                    1.7.2    \r\n",
      "anaconda-navigator                 1.9.7    \r\n",
      "anaconda-project                   0.8.3    \r\n",
      "asn1crypto                         1.0.1    \r\n",
      "astroid                            2.3.1    \r\n",
      "astropy                            3.2.2    \r\n",
      "atomicwrites                       1.3.0    \r\n",
      "attrs                              19.2.0   \r\n",
      "Babel                              2.7.0    \r\n",
      "backcall                           0.1.0    \r\n",
      "backports.functools-lru-cache      1.5      \r\n",
      "backports.os                       0.1.1    \r\n",
      "backports.shutil-get-terminal-size 1.0.0    \r\n",
      "backports.tempfile                 1.0      \r\n",
      "backports.weakref                  1.0.post1\r\n",
      "beautifulsoup4                     4.8.0    \r\n",
      "bitarray                           1.0.1    \r\n",
      "bkcharts                           0.2      \r\n",
      "bleach                             3.1.0    \r\n",
      "bokeh                              1.3.4    \r\n",
      "boto                               2.49.0   \r\n",
      "Bottleneck                         1.2.1    \r\n",
      "certifi                            2019.9.11\r\n",
      "cffi                               1.12.3   \r\n",
      "chardet                            3.0.4    \r\n",
      "Click                              7.0      \r\n",
      "cloudpickle                        1.2.2    \r\n",
      "clyent                             1.2.2    \r\n",
      "colorama                           0.4.1    \r\n",
      "conda                              4.7.12   \r\n",
      "conda-build                        3.18.9   \r\n",
      "conda-package-handling             1.6.0    \r\n",
      "conda-verify                       3.4.2    \r\n",
      "contextlib2                        0.6.0    \r\n",
      "cryptography                       2.7      \r\n",
      "cycler                             0.10.0   \r\n",
      "Cython                             0.29.13  \r\n",
      "cytoolz                            0.10.0   \r\n",
      "dask                               2.5.2    \r\n",
      "decorator                          4.4.0    \r\n",
      "defusedxml                         0.6.0    \r\n",
      "distributed                        2.5.2    \r\n",
      "docutils                           0.15.2   \r\n",
      "entrypoints                        0.3      \r\n",
      "et-xmlfile                         1.0.1    \r\n",
      "fastcache                          1.1.0    \r\n",
      "filelock                           3.0.12   \r\n",
      "Flask                              1.1.1    \r\n",
      "fsspec                             0.5.2    \r\n",
      "future                             0.17.1   \r\n",
      "gevent                             1.4.0    \r\n",
      "glob2                              0.7      \r\n",
      "gmpy2                              2.0.8    \r\n",
      "greenlet                           0.4.15   \r\n",
      "h5py                               2.9.0    \r\n",
      "HeapDict                           1.0.1    \r\n",
      "html5lib                           1.0.1    \r\n",
      "idna                               2.8      \r\n",
      "imageio                            2.6.0    \r\n",
      "imagesize                          1.1.0    \r\n",
      "importlib-metadata                 0.23     \r\n",
      "ipykernel                          5.1.2    \r\n",
      "ipython                            7.8.0    \r\n",
      "ipython-genutils                   0.2.0    \r\n",
      "ipywidgets                         7.5.1    \r\n",
      "isort                              4.3.21   \r\n",
      "itsdangerous                       1.1.0    \r\n",
      "jdcal                              1.4.1    \r\n",
      "jedi                               0.15.1   \r\n",
      "jeepney                            0.4.1    \r\n",
      "Jinja2                             2.10.3   \r\n",
      "joblib                             0.13.2   \r\n",
      "json5                              0.8.5    \r\n",
      "jsonschema                         3.0.2    \r\n",
      "jupyter                            1.0.0    \r\n",
      "jupyter-client                     5.3.3    \r\n",
      "jupyter-console                    6.0.0    \r\n",
      "jupyter-core                       4.5.0    \r\n",
      "jupyterlab                         1.1.4    \r\n",
      "jupyterlab-server                  1.0.6    \r\n",
      "keyring                            18.0.0   \r\n",
      "kiwisolver                         1.1.0    \r\n",
      "lazy-object-proxy                  1.4.2    \r\n",
      "libarchive-c                       2.8      \r\n",
      "lief                               0.9.0    \r\n",
      "llvmlite                           0.29.0   \r\n",
      "locket                             0.2.0    \r\n",
      "lxml                               4.4.1    \r\n",
      "MarkupSafe                         1.1.1    \r\n",
      "matplotlib                         3.1.1    \r\n",
      "mccabe                             0.6.1    \r\n",
      "mistune                            0.8.4    \r\n",
      "mkl-fft                            1.0.14   \r\n",
      "mkl-random                         1.1.0    \r\n",
      "mkl-service                        2.3.0    \r\n",
      "mock                               3.0.5    \r\n",
      "more-itertools                     7.2.0    \r\n",
      "mpmath                             1.1.0    \r\n",
      "msgpack                            0.6.1    \r\n",
      "multipledispatch                   0.6.0    \r\n",
      "navigator-updater                  0.2.1    \r\n",
      "nbconvert                          5.6.0    \r\n",
      "nbformat                           4.4.0    \r\n",
      "networkx                           2.3      \r\n",
      "nltk                               3.4.5    \r\n",
      "nose                               1.3.7    \r\n",
      "notebook                           6.0.1    \r\n",
      "numba                              0.45.1   \r\n",
      "numexpr                            2.7.0    \r\n",
      "numpy                              1.17.2   \r\n",
      "numpydoc                           0.9.1    \r\n",
      "olefile                            0.46     \r\n",
      "openpyxl                           3.0.0    \r\n",
      "packaging                          19.2     \r\n",
      "pandas                             0.25.1   \r\n",
      "pandocfilters                      1.4.2    \r\n",
      "parso                              0.5.1    \r\n",
      "partd                              1.0.0    \r\n",
      "path.py                            12.0.1   \r\n",
      "pathlib2                           2.3.5    \r\n",
      "patsy                              0.5.1    \r\n",
      "pep8                               1.7.1    \r\n",
      "pexpect                            4.7.0    \r\n",
      "pickleshare                        0.7.5    \r\n",
      "Pillow                             6.2.0    \r\n",
      "pip                                19.2.3   \r\n",
      "pkginfo                            1.5.0.1  \r\n",
      "pluggy                             0.13.0   \r\n",
      "ply                                3.11     \r\n",
      "prometheus-client                  0.7.1    \r\n",
      "prompt-toolkit                     2.0.10   \r\n",
      "psutil                             5.6.3    \r\n",
      "ptyprocess                         0.6.0    \r\n",
      "py                                 1.8.0    \r\n",
      "pycodestyle                        2.5.0    \r\n",
      "pycosat                            0.6.3    \r\n",
      "pycparser                          2.19     \r\n",
      "pycrypto                           2.6.1    \r\n",
      "pycurl                             7.43.0.3 \r\n",
      "pyflakes                           2.1.1    \r\n",
      "Pygments                           2.4.2    \r\n",
      "pylint                             2.4.2    \r\n",
      "pyodbc                             4.0.27   \r\n",
      "pyOpenSSL                          19.0.0   \r\n",
      "pyparsing                          2.4.2    \r\n",
      "pyrsistent                         0.15.4   \r\n",
      "PySocks                            1.7.1    \r\n",
      "pytest                             5.2.1    \r\n",
      "pytest-arraydiff                   0.3      \r\n",
      "pytest-astropy                     0.5.0    \r\n",
      "pytest-doctestplus                 0.4.0    \r\n",
      "pytest-openfiles                   0.4.0    \r\n",
      "pytest-remotedata                  0.3.2    \r\n",
      "python-dateutil                    2.8.0    \r\n",
      "pytz                               2019.3   \r\n",
      "PyWavelets                         1.0.3    \r\n",
      "PyYAML                             5.1.2    \r\n",
      "pyzmq                              18.1.0   \r\n",
      "QtAwesome                          0.6.0    \r\n",
      "qtconsole                          4.5.5    \r\n",
      "QtPy                               1.9.0    \r\n",
      "requests                           2.22.0   \r\n",
      "rope                               0.14.0   \r\n",
      "ruamel-yaml                        0.15.46  \r\n",
      "scikit-image                       0.15.0   \r\n",
      "scikit-learn                       0.21.3   \r\n",
      "scipy                              1.3.1    \r\n",
      "sddk                               0.0.7    \r\n",
      "seaborn                            0.9.0    \r\n",
      "SecretStorage                      3.1.1    \r\n",
      "Send2Trash                         1.5.0    \r\n",
      "setuptools                         41.4.0   \r\n",
      "simplegeneric                      0.8.1    \r\n",
      "singledispatch                     3.4.0.3  \r\n",
      "six                                1.12.0   \r\n",
      "snowballstemmer                    2.0.0    \r\n",
      "sortedcollections                  1.1.2    \r\n",
      "sortedcontainers                   2.1.0    \r\n",
      "soupsieve                          1.9.3    \r\n",
      "Sphinx                             2.2.0    \r\n",
      "sphinxcontrib-applehelp            1.0.1    \r\n",
      "sphinxcontrib-devhelp              1.0.1    \r\n",
      "sphinxcontrib-htmlhelp             1.0.2    \r\n",
      "sphinxcontrib-jsmath               1.0.1    \r\n",
      "sphinxcontrib-qthelp               1.0.2    \r\n",
      "sphinxcontrib-serializinghtml      1.1.3    \r\n",
      "sphinxcontrib-websupport           1.1.2    \r\n",
      "spyder                             3.3.6    \r\n",
      "spyder-kernels                     0.5.2    \r\n",
      "SQLAlchemy                         1.3.9    \r\n",
      "statsmodels                        0.10.1   \r\n",
      "sympy                              1.4      \r\n",
      "tables                             3.5.2    \r\n",
      "tblib                              1.4.0    \r\n",
      "terminado                          0.8.2    \r\n",
      "testpath                           0.4.2    \r\n",
      "toolz                              0.10.0   \r\n",
      "tornado                            6.0.3    \r\n",
      "tqdm                               4.36.1   \r\n",
      "traitlets                          4.3.3    \r\n",
      "unicodecsv                         0.14.1   \r\n",
      "urllib3                            1.24.2   \r\n",
      "wcwidth                            0.1.7    \r\n",
      "webencodings                       0.5.1    \r\n",
      "Werkzeug                           0.16.0   \r\n",
      "wheel                              0.33.6   \r\n",
      "widgetsnbextension                 3.5.1    \r\n",
      "wrapt                              1.11.2   \r\n",
      "wurlitzer                          1.0.3    \r\n",
      "xlrd                               1.2.0    \r\n",
      "XlsxWriter                         1.2.1    \r\n",
      "xlwt                               1.3.0    \r\n",
      "zict                               1.0.0    \r\n",
      "zipp                               0.6.0    \r\n"
     ]
    },
    {
     "name": "stdout",
     "output_type": "stream",
     "text": [
      "Note: you may need to restart the kernel to use updated packages.\n"
     ]
    }
   ],
   "source": [
    "pip list # lists all available libraries"
   ]
  },
  {
   "cell_type": "code",
   "execution_count": 21,
   "metadata": {
    "scrolled": false
   },
   "outputs": [
    {
     "name": "stdout",
     "output_type": "stream",
     "text": [
      "Collecting attrs==19.1.0 (from -r requirements.txt (line 1))\n",
      "  Downloading https://files.pythonhosted.org/packages/23/96/d828354fa2dbdf216eaa7b7de0db692f12c234f7ef888cc14980ef40d1d2/attrs-19.1.0-py2.py3-none-any.whl\n",
      "Requirement already satisfied: backcall==0.1.0 in /home/petra/anaconda3/lib/python3.7/site-packages (from -r requirements.txt (line 2)) (0.1.0)\n",
      "Collecting beautifulsoup4==4.7.1 (from -r requirements.txt (line 3))\n",
      "\u001b[?25l  Downloading https://files.pythonhosted.org/packages/1d/5d/3260694a59df0ec52f8b4883f5d23b130bc237602a1411fa670eae12351e/beautifulsoup4-4.7.1-py3-none-any.whl (94kB)\n",
      "\u001b[K     |████████████████████████████████| 102kB 5.2MB/s ta 0:00:011\n",
      "\u001b[?25hRequirement already satisfied: bleach==3.1.0 in /home/petra/anaconda3/lib/python3.7/site-packages (from -r requirements.txt (line 4)) (3.1.0)\n",
      "Collecting certifi==2019.3.9 (from -r requirements.txt (line 5))\n",
      "\u001b[?25l  Downloading https://files.pythonhosted.org/packages/60/75/f692a584e85b7eaba0e03827b3d51f45f571c2e793dd731e598828d380aa/certifi-2019.3.9-py2.py3-none-any.whl (158kB)\n",
      "\u001b[K     |████████████████████████████████| 163kB 14.7MB/s eta 0:00:01\n",
      "\u001b[?25hRequirement already satisfied: chardet==3.0.4 in /home/petra/anaconda3/lib/python3.7/site-packages (from -r requirements.txt (line 6)) (3.0.4)\n",
      "Requirement already satisfied: decorator==4.4.0 in /home/petra/anaconda3/lib/python3.7/site-packages (from -r requirements.txt (line 7)) (4.4.0)\n",
      "Requirement already satisfied: defusedxml==0.6.0 in /home/petra/anaconda3/lib/python3.7/site-packages (from -r requirements.txt (line 8)) (0.6.0)\n",
      "Requirement already satisfied: entrypoints==0.3 in /home/petra/anaconda3/lib/python3.7/site-packages (from -r requirements.txt (line 9)) (0.3)\n",
      "Requirement already satisfied: idna==2.8 in /home/petra/anaconda3/lib/python3.7/site-packages (from -r requirements.txt (line 10)) (2.8)\n",
      "Collecting ipykernel==5.1.0 (from -r requirements.txt (line 11))\n",
      "\u001b[?25l  Downloading https://files.pythonhosted.org/packages/d8/b0/f0be5c5ab335196f5cce96e5b889a4fcf5bfe462eb0acc05cd7e2caf65eb/ipykernel-5.1.0-py3-none-any.whl (113kB)\n",
      "\u001b[K     |████████████████████████████████| 122kB 25.1MB/s eta 0:00:01\n",
      "\u001b[?25hCollecting ipython==7.5.0 (from -r requirements.txt (line 12))\n",
      "\u001b[?25l  Downloading https://files.pythonhosted.org/packages/a9/2e/41dce4ed129057e05a555a7f9629aa2d5f81fdcd4d16568bc24b75a1d2c9/ipython-7.5.0-py3-none-any.whl (770kB)\n",
      "\u001b[K     |████████████████████████████████| 778kB 3.9MB/s eta 0:00:01\n",
      "\u001b[?25hRequirement already satisfied: ipython-genutils==0.2.0 in /home/petra/anaconda3/lib/python3.7/site-packages (from -r requirements.txt (line 13)) (0.2.0)\n",
      "Collecting ipywidgets==7.4.2 (from -r requirements.txt (line 14))\n",
      "\u001b[?25l  Downloading https://files.pythonhosted.org/packages/30/9a/a008c7b1183fac9e52066d80a379b3c64eab535bd9d86cdc29a0b766fd82/ipywidgets-7.4.2-py2.py3-none-any.whl (111kB)\n",
      "\u001b[K     |████████████████████████████████| 112kB 23.6MB/s eta 0:00:01\n",
      "\u001b[?25hCollecting jedi==0.13.3 (from -r requirements.txt (line 15))\n",
      "\u001b[?25l  Downloading https://files.pythonhosted.org/packages/25/2b/1f188901be099d52d7b06f4d3b7cb9f8f09692c50697b139eaf6fa2928d8/jedi-0.13.3-py2.py3-none-any.whl (178kB)\n",
      "\u001b[K     |████████████████████████████████| 184kB 27.8MB/s eta 0:00:01\n",
      "\u001b[?25hCollecting Jinja2==2.10.1 (from -r requirements.txt (line 16))\n",
      "\u001b[?25l  Downloading https://files.pythonhosted.org/packages/1d/e7/fd8b501e7a6dfe492a433deb7b9d833d39ca74916fa8bc63dd1a4947a671/Jinja2-2.10.1-py2.py3-none-any.whl (124kB)\n",
      "\u001b[K     |████████████████████████████████| 133kB 23.4MB/s eta 0:00:01\n",
      "\u001b[?25hCollecting jsonschema==3.0.1 (from -r requirements.txt (line 17))\n",
      "\u001b[?25l  Downloading https://files.pythonhosted.org/packages/aa/69/df679dfbdd051568b53c38ec8152a3ab6bc533434fc7ed11ab034bf5e82f/jsonschema-3.0.1-py2.py3-none-any.whl (54kB)\n",
      "\u001b[K     |████████████████████████████████| 61kB 21.8MB/s eta 0:00:01\n",
      "\u001b[?25hRequirement already satisfied: jupyter==1.0.0 in /home/petra/anaconda3/lib/python3.7/site-packages (from -r requirements.txt (line 18)) (1.0.0)\n",
      "Collecting jupyter-client==5.2.4 (from -r requirements.txt (line 19))\n",
      "\u001b[?25l  Downloading https://files.pythonhosted.org/packages/3b/c3/3043fe9ffd140d03c9d091a056794ccdc427c56ec19b8eea74f9ea0a498f/jupyter_client-5.2.4-py2.py3-none-any.whl (89kB)\n",
      "\u001b[K     |████████████████████████████████| 92kB 20.8MB/s eta 0:00:01\n",
      "\u001b[?25hRequirement already satisfied: jupyter-console==6.0.0 in /home/petra/anaconda3/lib/python3.7/site-packages (from -r requirements.txt (line 20)) (6.0.0)\n",
      "Collecting jupyter-core==4.4.0 (from -r requirements.txt (line 21))\n",
      "  Using cached https://files.pythonhosted.org/packages/1d/44/065d2d7bae7bebc06f1dd70d23c36da8c50c0f08b4236716743d706762a8/jupyter_core-4.4.0-py2.py3-none-any.whl\n",
      "Collecting lxml==4.3.3 (from -r requirements.txt (line 22))\n",
      "\u001b[?25l  Downloading https://files.pythonhosted.org/packages/66/20/49201c7bcb1c92942ac98658b09fb4a0c0dcd064d439489349bc5891207c/lxml-4.3.3-cp37-cp37m-manylinux1_x86_64.whl (5.7MB)\n",
      "\u001b[K     |████████████████████████████████| 5.7MB 8.4MB/s eta 0:00:01     |█████████▌                      | 1.7MB 8.4MB/s eta 0:00:01     |██████████████                  | 2.5MB 8.4MB/s eta 0:00:01\n",
      "\u001b[?25hRequirement already satisfied: MarkupSafe==1.1.1 in /home/petra/anaconda3/lib/python3.7/site-packages (from -r requirements.txt (line 23)) (1.1.1)\n",
      "Collecting MechanicalSoup==0.11.0 (from -r requirements.txt (line 24))\n",
      "  Downloading https://files.pythonhosted.org/packages/f6/6a/263f3e12d50e3272abf3842e13a3c991cda4af0f253e9c73a41d0b8387c3/MechanicalSoup-0.11.0-py2.py3-none-any.whl\n",
      "Requirement already satisfied: mistune==0.8.4 in /home/petra/anaconda3/lib/python3.7/site-packages (from -r requirements.txt (line 25)) (0.8.4)\n",
      "Collecting nbconvert==5.5.0 (from -r requirements.txt (line 26))\n",
      "\u001b[?25l  Downloading https://files.pythonhosted.org/packages/35/e7/f46c9d65f149271e47fca6ab084ef5c6e4cb1870f4c5cce6690feac55231/nbconvert-5.5.0-py2.py3-none-any.whl (447kB)\n",
      "\u001b[K     |████████████████████████████████| 450kB 26.6MB/s eta 0:00:01\n",
      "\u001b[?25hRequirement already satisfied: nbformat==4.4.0 in /home/petra/anaconda3/lib/python3.7/site-packages (from -r requirements.txt (line 27)) (4.4.0)\n",
      "Collecting notebook==5.7.8 (from -r requirements.txt (line 28))\n",
      "\u001b[?25l  Downloading https://files.pythonhosted.org/packages/f6/36/89ebfffc9dd8c8dbd81c1ffb53e3d4233ee666414c143959477cb07cc5f5/notebook-5.7.8-py2.py3-none-any.whl (9.0MB)\n",
      "\u001b[K     |████████████████████████████████| 9.0MB 23.4MB/s eta 0:00:01     |██████████████████              | 5.0MB 23.4MB/s eta 0:00:01\n",
      "\u001b[?25hRequirement already satisfied: pandocfilters==1.4.2 in /home/petra/anaconda3/lib/python3.7/site-packages (from -r requirements.txt (line 29)) (1.4.2)\n",
      "Collecting parso==0.4.0 (from -r requirements.txt (line 30))\n",
      "\u001b[?25l  Downloading https://files.pythonhosted.org/packages/a7/bd/e2f4753c5fa93932899243b4299011a757ac212e9bc8ddf062f38df4e78b/parso-0.4.0-py2.py3-none-any.whl (94kB)\n",
      "\u001b[K     |████████████████████████████████| 102kB 27.0MB/s ta 0:00:01\n",
      "\u001b[?25hRequirement already satisfied: pexpect==4.7.0 in /home/petra/anaconda3/lib/python3.7/site-packages (from -r requirements.txt (line 31)) (4.7.0)\n",
      "Requirement already satisfied: pickleshare==0.7.5 in /home/petra/anaconda3/lib/python3.7/site-packages (from -r requirements.txt (line 32)) (0.7.5)\n",
      "Collecting pkg-resources==0.0.0 (from -r requirements.txt (line 33))\n",
      "\u001b[31m  ERROR: Could not find a version that satisfies the requirement pkg-resources==0.0.0 (from -r requirements.txt (line 33)) (from versions: none)\u001b[0m\n",
      "\u001b[31mERROR: No matching distribution found for pkg-resources==0.0.0 (from -r requirements.txt (line 33))\u001b[0m\n",
      "Note: you may need to restart the kernel to use updated packages.\n"
     ]
    }
   ],
   "source": [
    "pip install -r requirements.txt # calls the textfile where all the needed libraries are listed"
   ]
  },
  {
   "cell_type": "code",
   "execution_count": 26,
   "metadata": {},
   "outputs": [
    {
     "name": "stdout",
     "output_type": "stream",
     "text": [
      "Collecting MechanicalSoup\n",
      "  Downloading https://files.pythonhosted.org/packages/0b/fe/4f871ec3379080c5979815bfec3266871e555eebf4879f551a7e5dee4766/MechanicalSoup-0.12.0-py2.py3-none-any.whl\n",
      "Requirement already satisfied: requests>=2.0 in /home/petra/anaconda3/lib/python3.7/site-packages (from MechanicalSoup) (2.22.0)\n",
      "Requirement already satisfied: six>=1.4 in /home/petra/anaconda3/lib/python3.7/site-packages (from MechanicalSoup) (1.12.0)\n",
      "Requirement already satisfied: lxml in /home/petra/anaconda3/lib/python3.7/site-packages (from MechanicalSoup) (4.4.1)\n",
      "Requirement already satisfied: beautifulsoup4>=4.4 in /home/petra/anaconda3/lib/python3.7/site-packages (from MechanicalSoup) (4.8.0)\n",
      "Requirement already satisfied: urllib3!=1.25.0,!=1.25.1,<1.26,>=1.21.1 in /home/petra/anaconda3/lib/python3.7/site-packages (from requests>=2.0->MechanicalSoup) (1.24.2)\n",
      "Requirement already satisfied: certifi>=2017.4.17 in /home/petra/anaconda3/lib/python3.7/site-packages (from requests>=2.0->MechanicalSoup) (2019.9.11)\n",
      "Requirement already satisfied: idna<2.9,>=2.5 in /home/petra/anaconda3/lib/python3.7/site-packages (from requests>=2.0->MechanicalSoup) (2.8)\n",
      "Requirement already satisfied: chardet<3.1.0,>=3.0.2 in /home/petra/anaconda3/lib/python3.7/site-packages (from requests>=2.0->MechanicalSoup) (3.0.4)\n",
      "Requirement already satisfied: soupsieve>=1.2 in /home/petra/anaconda3/lib/python3.7/site-packages (from beautifulsoup4>=4.4->MechanicalSoup) (1.9.3)\n",
      "Installing collected packages: MechanicalSoup\n",
      "Successfully installed MechanicalSoup-0.12.0\n",
      "Note: you may need to restart the kernel to use updated packages.\n"
     ]
    }
   ],
   "source": [
    "pip install MechanicalSoup # installs mechanical soup library"
   ]
  },
  {
   "cell_type": "code",
   "execution_count": 1,
   "metadata": {},
   "outputs": [
    {
     "data": {
      "text/html": [
       "<h1>Scraper</h1>"
      ],
      "text/plain": [
       "<IPython.core.display.HTML object>"
      ]
     },
     "metadata": {},
     "output_type": "display_data"
    },
    {
     "data": {
      "application/vnd.jupyter.widget-view+json": {
       "model_id": "e3233421550443f790c5025ddf1ae60c",
       "version_major": 2,
       "version_minor": 0
      },
      "text/plain": [
       "Text(value='', description='Text 1:')"
      ]
     },
     "metadata": {},
     "output_type": "display_data"
    },
    {
     "data": {
      "application/vnd.jupyter.widget-view+json": {
       "model_id": "76891a6acd1d4cf0a5be09861cd23cab",
       "version_major": 2,
       "version_minor": 0
      },
      "text/plain": [
       "ToggleButtons(description='Operator', options=('and', 'or', 'not'), value='and')"
      ]
     },
     "metadata": {},
     "output_type": "display_data"
    },
    {
     "data": {
      "application/vnd.jupyter.widget-view+json": {
       "model_id": "81edcaff13b24b749ef9bf79a103aae6",
       "version_major": 2,
       "version_minor": 0
      },
      "text/plain": [
       "Text(value='', description='Text 2:')"
      ]
     },
     "metadata": {},
     "output_type": "display_data"
    },
    {
     "data": {
      "application/vnd.jupyter.widget-view+json": {
       "model_id": "efa54db894634dce8934ece1681a8656",
       "version_major": 2,
       "version_minor": 0
      },
      "text/plain": [
       "Text(value='', description='EDCS-ID:')"
      ]
     },
     "metadata": {},
     "output_type": "display_data"
    },
    {
     "data": {
      "application/vnd.jupyter.widget-view+json": {
       "model_id": "9c5e1c02d6364c80abac59c60b22bbc5",
       "version_major": 2,
       "version_minor": 0
      },
      "text/plain": [
       "Text(value='', description='Publication:')"
      ]
     },
     "metadata": {},
     "output_type": "display_data"
    },
    {
     "data": {
      "application/vnd.jupyter.widget-view+json": {
       "model_id": "3fe2ec7fba534171be6323b14fdcb175",
       "version_major": 2,
       "version_minor": 0
      },
      "text/plain": [
       "Text(value='', description='Place:')"
      ]
     },
     "metadata": {},
     "output_type": "display_data"
    },
    {
     "data": {
      "application/vnd.jupyter.widget-view+json": {
       "model_id": "a13e5ddcef5e4f3797d1522718be541f",
       "version_major": 2,
       "version_minor": 0
      },
      "text/plain": [
       "Text(value='', description='dating from:')"
      ]
     },
     "metadata": {},
     "output_type": "display_data"
    },
    {
     "data": {
      "application/vnd.jupyter.widget-view+json": {
       "model_id": "66a78eb334824631a0e93987e60345cb",
       "version_major": 2,
       "version_minor": 0
      },
      "text/plain": [
       "Text(value='', description='dating to:')"
      ]
     },
     "metadata": {},
     "output_type": "display_data"
    },
    {
     "data": {
      "text/html": [
       "<div>Shift or Control click to select multiple in these lists</div>"
      ],
      "text/plain": [
       "<IPython.core.display.HTML object>"
      ]
     },
     "metadata": {},
     "output_type": "display_data"
    },
    {
     "data": {
      "application/vnd.jupyter.widget-view+json": {
       "model_id": "76aa80580f474026b988431314a36ee2",
       "version_major": 2,
       "version_minor": 0
      },
      "text/plain": [
       "SelectMultiple(description='Province:', options=(None, 'Achaia', 'Aegyptus', 'Africa proconsularis', 'Alpes Co…"
      ]
     },
     "metadata": {},
     "output_type": "display_data"
    },
    {
     "data": {
      "application/vnd.jupyter.widget-view+json": {
       "model_id": "3df081e8d2cc45e3bad2ad4ec937cfc1",
       "version_major": 2,
       "version_minor": 0
      },
      "text/plain": [
       "Button(description='Inscription Genus...', style=ButtonStyle())"
      ]
     },
     "metadata": {},
     "output_type": "display_data"
    },
    {
     "data": {
      "application/vnd.jupyter.widget-view+json": {
       "model_id": "77f136f76f6d44149ff2e95e2f495624",
       "version_major": 2,
       "version_minor": 0
      },
      "text/plain": [
       "SelectMultiple(description='inscription genus / personal status:', layout=Layout(display='none'), options=(Non…"
      ]
     },
     "metadata": {},
     "output_type": "display_data"
    },
    {
     "data": {
      "application/vnd.jupyter.widget-view+json": {
       "model_id": "3d16c441cf1042c2ad5a5c67ee927058",
       "version_major": 2,
       "version_minor": 0
      },
      "text/plain": [
       "SelectMultiple(description='and not:', layout=Layout(display='none'), options=(None, 'carmina', 'sigilla impre…"
      ]
     },
     "metadata": {},
     "output_type": "display_data"
    },
    {
     "data": {
      "application/vnd.jupyter.widget-view+json": {
       "model_id": "38906bd3c31e48a9b839f693086ea88b",
       "version_major": 2,
       "version_minor": 0
      },
      "text/plain": [
       "Button(description='Scrape!', style=ButtonStyle())"
      ]
     },
     "metadata": {},
     "output_type": "display_data"
    },
    {
     "name": "stdout",
     "output_type": "stream",
     "text": [
      "Starting Scrape. This may take a few minutes, depending on the number of search results.\n",
      "2742 inscriptions found.\n"
     ]
    },
    {
     "data": {
      "text/html": [
       "<a href='/tree/output/' target='_blank'>Full File List</a>"
      ],
      "text/plain": [
       "<IPython.core.display.HTML object>"
      ]
     },
     "metadata": {},
     "output_type": "display_data"
    },
    {
     "data": {
      "text/html": [
       "<a href='output/2019-12-16-province_Sardinia-2742.tsv' target='_blank'>output/2019-12-16-province_Sardinia-2742.tsv</a><br>"
      ],
      "text/plain": [
       "/home/petra/Github/EpigraphyScraperNotebook/output/2019-12-16-province_Sardinia-2742.tsv"
      ]
     },
     "metadata": {},
     "output_type": "display_data"
    }
   ],
   "source": [
    "import interface                     # loads the user friendly GUI\n",
    "interface.makeScrapeInterface()"
   ]
  },
  {
   "cell_type": "code",
   "execution_count": null,
   "metadata": {},
   "outputs": [],
   "source": []
  }
 ],
 "metadata": {
  "kernelspec": {
   "display_name": "Python 3",
   "language": "python",
   "name": "python3"
  },
  "language_info": {
   "codemirror_mode": {
    "name": "ipython",
    "version": 3
   },
   "file_extension": ".py",
   "mimetype": "text/x-python",
   "name": "python",
   "nbconvert_exporter": "python",
   "pygments_lexer": "ipython3",
   "version": "3.7.4"
  }
 },
 "nbformat": 4,
 "nbformat_minor": 2
}
