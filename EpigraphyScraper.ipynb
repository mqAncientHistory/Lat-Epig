{
 "cells": [
  {
   "cell_type": "code",
   "execution_count": 1,
   "metadata": {
    "init_cell": true
   },
   "outputs": [
    {
     "data": {
      "text/html": [
       "<script>\n",
       "  function code_toggle() {\n",
       "    if (code_shown){\n",
       "      $('div.input').hide('500');\n",
       "      $('#toggleButton').val('Display code')\n",
       "    } else {\n",
       "      $('div.input').show('500');\n",
       "      $('#toggleButton').val('Hide Code')\n",
       "    }\n",
       "    code_shown = !code_shown\n",
       "  }\n",
       "\n",
       "  $( document ).ready(function(){\n",
       "    code_shown=false;\n",
       "    $('div.input').hide()\n",
       "  });\n",
       "</script>\n",
       "<form action=\"javascript:code_toggle()\"><input type=\"submit\" id=\"toggleButton\" value=\"Display code\"></form>"
      ],
      "text/plain": [
       "<IPython.core.display.HTML object>"
      ]
     },
     "execution_count": 1,
     "metadata": {},
     "output_type": "execute_result"
    }
   ],
   "source": [
    "#https://stackoverflow.com/a/54594071\n",
    "from IPython.display import HTML\n",
    "\n",
    "HTML('''<script>\n",
    "  function code_toggle() {\n",
    "    if (code_shown){\n",
    "      $('div.input').hide('500');\n",
    "      $('#toggleButton').val('Display code')\n",
    "    } else {\n",
    "      $('div.input').show('500');\n",
    "      $('#toggleButton').val('Hide Code')\n",
    "    }\n",
    "    code_shown = !code_shown\n",
    "  }\n",
    "\n",
    "  $( document ).ready(function(){\n",
    "    code_shown=false;\n",
    "    $('div.input').hide()\n",
    "  });\n",
    "</script>\n",
    "<form action=\"javascript:code_toggle()\"><input type=\"submit\" id=\"toggleButton\" value=\"Display code\"></form>''')\n"
   ]
  },
  {
   "cell_type": "code",
   "execution_count": 2,
   "metadata": {
    "init_cell": true,
    "scrolled": false
   },
   "outputs": [
    {
     "data": {
      "text/html": [
       "<h1>Lat Epig 2.0</h1>"
      ],
      "text/plain": [
       "<IPython.core.display.HTML object>"
      ]
     },
     "metadata": {},
     "output_type": "display_data"
    },
    {
     "data": {
      "application/vnd.jupyter.widget-view+json": {
       "model_id": "b0da6f105dd34c53a358ac6b22b33665",
       "version_major": 2,
       "version_minor": 0
      },
      "text/plain": [
       "Text(value='', description='Text 1:')"
      ]
     },
     "metadata": {},
     "output_type": "display_data"
    },
    {
     "data": {
      "application/vnd.jupyter.widget-view+json": {
       "model_id": "a4bd5cf1768849feb02f88620fe5759d",
       "version_major": 2,
       "version_minor": 0
      },
      "text/plain": [
       "ToggleButtons(description='Operator', options=('and', 'or', 'not'), value='and')"
      ]
     },
     "metadata": {},
     "output_type": "display_data"
    },
    {
     "data": {
      "application/vnd.jupyter.widget-view+json": {
       "model_id": "232746807e0946bc9150e4b86f90e151",
       "version_major": 2,
       "version_minor": 0
      },
      "text/plain": [
       "Text(value='', description='Text 2:')"
      ]
     },
     "metadata": {},
     "output_type": "display_data"
    },
    {
     "data": {
      "application/vnd.jupyter.widget-view+json": {
       "model_id": "17f4f5ff41164619a0c43a6c2e168d59",
       "version_major": 2,
       "version_minor": 0
      },
      "text/plain": [
       "Text(value='', description='EDCS-ID:')"
      ]
     },
     "metadata": {},
     "output_type": "display_data"
    },
    {
     "data": {
      "application/vnd.jupyter.widget-view+json": {
       "model_id": "937d2b7290f24216b26fd0eeb684e672",
       "version_major": 2,
       "version_minor": 0
      },
      "text/plain": [
       "Text(value='', description='Publication:')"
      ]
     },
     "metadata": {},
     "output_type": "display_data"
    },
    {
     "data": {
      "application/vnd.jupyter.widget-view+json": {
       "model_id": "bf1997a4f7f94a6ab0c904921600303f",
       "version_major": 2,
       "version_minor": 0
      },
      "text/plain": [
       "Text(value='', description='Place:')"
      ]
     },
     "metadata": {},
     "output_type": "display_data"
    },
    {
     "data": {
      "application/vnd.jupyter.widget-view+json": {
       "model_id": "9aa0520196764fcfb5c504dad01ffce8",
       "version_major": 2,
       "version_minor": 0
      },
      "text/plain": [
       "Text(value='', description='Dating from:')"
      ]
     },
     "metadata": {},
     "output_type": "display_data"
    },
    {
     "data": {
      "application/vnd.jupyter.widget-view+json": {
       "model_id": "a0ffd3bc47fe478ba817cfc8cd3a271d",
       "version_major": 2,
       "version_minor": 0
      },
      "text/plain": [
       "Text(value='', description='Dating to:')"
      ]
     },
     "metadata": {},
     "output_type": "display_data"
    },
    {
     "data": {
      "text/html": [
       "<div>Shift or Control click to select multiple items in the following lists</div>"
      ],
      "text/plain": [
       "<IPython.core.display.HTML object>"
      ]
     },
     "metadata": {},
     "output_type": "display_data"
    },
    {
     "data": {
      "application/vnd.jupyter.widget-view+json": {
       "model_id": "8d940f74e728494d889d7c4b06d08034",
       "version_major": 2,
       "version_minor": 0
      },
      "text/plain": [
       "SelectMultiple(description='Province:', options=(None, 'Achaia', 'Aegyptus', 'Africa proconsularis', 'Alpes Co…"
      ]
     },
     "metadata": {},
     "output_type": "display_data"
    },
    {
     "data": {
      "application/vnd.jupyter.widget-view+json": {
       "model_id": "b36a94144eab4bcab97e1778df89bebe",
       "version_major": 2,
       "version_minor": 0
      },
      "text/plain": [
       "Button(description='Inscription Genus...', style=ButtonStyle())"
      ]
     },
     "metadata": {},
     "output_type": "display_data"
    },
    {
     "data": {
      "application/vnd.jupyter.widget-view+json": {
       "model_id": "acda18c843c34f17889d881d911df799",
       "version_major": 2,
       "version_minor": 0
      },
      "text/plain": [
       "SelectMultiple(description='Inscription genus / personal status:', layout=Layout(display='none'), options=(Non…"
      ]
     },
     "metadata": {},
     "output_type": "display_data"
    },
    {
     "data": {
      "application/vnd.jupyter.widget-view+json": {
       "model_id": "289a56f6a2e940349f845250f36f1895",
       "version_major": 2,
       "version_minor": 0
      },
      "text/plain": [
       "SelectMultiple(description='and not:', layout=Layout(display='none'), options=(None, 'Augusti/Augustae', 'carm…"
      ]
     },
     "metadata": {},
     "output_type": "display_data"
    },
    {
     "data": {
      "application/vnd.jupyter.widget-view+json": {
       "model_id": "b2ea50d2cd6343509a6bd8554a4ac5f9",
       "version_major": 2,
       "version_minor": 0
      },
      "text/plain": [
       "Button(description='Get inscriptions!', style=ButtonStyle())"
      ]
     },
     "metadata": {},
     "output_type": "display_data"
    },
    {
     "data": {
      "application/vnd.jupyter.widget-view+json": {
       "model_id": "11b4e7728a604531815d034fb6d8505b",
       "version_major": 2,
       "version_minor": 0
      },
      "text/plain": [
       "Output(layout=Layout(border='1px solid black'))"
      ]
     },
     "metadata": {},
     "output_type": "display_data"
    }
   ],
   "source": [
    "import warnings\n",
    "warnings.filterwarnings('ignore')\n",
    "import interface                     # loads the user friendly GUI\n",
    "interface.makeScrapeInterface()\n",
    "\n",
    "# Floriano"
   ]
  },
  {
   "cell_type": "code",
   "execution_count": null,
   "metadata": {},
   "outputs": [],
   "source": []
  },
  {
   "cell_type": "code",
   "execution_count": 3,
   "metadata": {
    "init_cell": true
   },
   "outputs": [
    {
     "data": {
      "text/html": [
       "<h1>Generate PDF Map</h1>"
      ],
      "text/plain": [
       "<IPython.core.display.HTML object>"
      ]
     },
     "metadata": {},
     "output_type": "display_data"
    },
    {
     "data": {
      "application/vnd.jupyter.widget-view+json": {
       "model_id": "7f7b02f544974e7c8ad99a1deaeec75b",
       "version_major": 2,
       "version_minor": 0
      },
      "text/plain": [
       "Text(value='', description='Map Title:')"
      ]
     },
     "metadata": {},
     "output_type": "display_data"
    },
    {
     "data": {
      "application/vnd.jupyter.widget-view+json": {
       "model_id": "d603ef3ec52b4b85aec4dc5479f56edf",
       "version_major": 2,
       "version_minor": 0
      },
      "text/plain": [
       "Button(description='Generate New Maps!', style=ButtonStyle())"
      ]
     },
     "metadata": {},
     "output_type": "display_data"
    },
    {
     "data": {
      "application/vnd.jupyter.widget-view+json": {
       "model_id": "605ae8acefd04a429ea880294d54a79d",
       "version_major": 2,
       "version_minor": 0
      },
      "text/plain": [
       "Output(layout=Layout(border='1px solid black'))"
      ]
     },
     "metadata": {},
     "output_type": "display_data"
    }
   ],
   "source": [
    "import map_interface \n",
    "map_interface.make_map_interface()\n",
    "\n"
   ]
  },
  {
   "cell_type": "code",
   "execution_count": null,
   "metadata": {},
   "outputs": [],
   "source": [
    "\n"
   ]
  },
  {
   "cell_type": "code",
   "execution_count": null,
   "metadata": {},
   "outputs": [],
   "source": [
    "HTML('''<script>\n",
    "\n",
    "</script>\n",
    "<form action=\"javascript:IPython.notebook.execute_cells_below()\"><input type=\"submit\" id=\"toggleButton\" value=\"Refresh\"></form>''')"
   ]
  },
  {
   "cell_type": "code",
   "execution_count": null,
   "metadata": {},
   "outputs": [],
   "source": [
    "import geopandas\n",
    "import matplotlib.pyplot as plt\n",
    "from frictionless import extract\n",
    "from pathlib import Path\n",
    "from pprint import pprint\n",
    "import pandas\n",
    "import os\n",
    "import subprocess\n",
    "import geoplot\n",
    "import matplotlib\n",
    "import shutil\n",
    "import glob\n",
    "# https://geopandas.org/reference/geopandas.GeoDataFrame.html#geopandas.GeoDataFrame\n",
    "from shapely.geometry import Point\n",
    "# https://geopandas.org/gallery/plotting_basemap_background.html#sphx-glr-gallery-plotting-basemap-background-py\n",
    "import contextily as ctx\n",
    "\n",
    "\n",
    "DATA_DIR = \"output\"\n",
    "SUPPORTING_DATA = Path(\"awmc.unc.edu\")\n",
    "SUPPORTING_DATA = SUPPORTING_DATA / \"awmc\" / \"map_data\" / \"shapefiles\"\n",
    "ROMAN_ROADS_SHP = SUPPORTING_DATA / \"ba_roads\" / \"ba_roads.shp\"\n",
    "PROVINCES_SHP   = SUPPORTING_DATA / \"cultural_data\" / \"political_shading\" / \"roman_empire_ad_117\" / \"shape\" / \"roman_empire_ad_117.shp\"\n",
    "CITIES_DATA     = Path(\"cities\") / \"Hanson2016_Cities_OxREP.csv\"\n",
    "\n",
    "cities_rows = extract(CITIES_DATA)\n",
    "cities_dataframe = pandas.DataFrame(cities_rows)\n",
    "\n",
    "\n",
    "#https://cmdlinetips.com/2018/02/how-to-subset-pandas-dataframe-based-on-values-of-a-column/\n",
    "\n",
    "roads_4326 = geopandas.read_file(ROMAN_ROADS_SHP).to_crs(epsg=4326)\n",
    "provinces_4326 = geopandas.read_file(PROVINCES_SHP).to_crs(epsg=4326)\n",
    "\n",
    "\n",
    "cities_geodataframe_4326 = geopandas.GeoDataFrame(\n",
    "cities_dataframe,\n",
    "geometry=geopandas.points_from_xy(\n",
    "  cities_dataframe[\"Longitude (X)\"],\n",
    "  cities_dataframe[\"Latitude (Y)\"]),\n",
    "crs=\"EPSG:4326\").to_crs(epsg=4326)\n",
    "cities_geodataframe_4326.drop(\"Longitude (X)\", inplace=True, axis=1)\n",
    "cities_geodataframe_4326.drop(\"Latitude (Y)\", inplace=True, axis=1)\n",
    "\n",
    "#pprint(cities_geodataframe_4326)\n",
    "geopandas.options.use_pygeos = True"
   ]
  },
  {
   "cell_type": "code",
   "execution_count": null,
   "metadata": {},
   "outputs": [],
   "source": [
    "import folium\n",
    "from folium import plugins\n",
    "import random\n",
    "import simplejson as json\n",
    "import textwrap\n",
    "import tldextract\n",
    "import randomcolor\n",
    "\n",
    "# TODO https://nbviewer.jupyter.org/github/python-visualization/folium_contrib/blob/master/notebooks/HereMapsApiExplorer_no_creds.ipynb get this out of the display file\n",
    "\n",
    "\n",
    "def makeDataframe(data_file, epsg=3857):\n",
    "    \n",
    "    # pprint(WMS_LAYERS)\n",
    "    # pprint([op.name for op in wms.operations])\n",
    "\n",
    "    # https://frictionlessdata.io/tooling/python/extracting-data/\n",
    "    # Handles multiline columns cleanly.\n",
    "    data_filename = os.path.basename(data_file)\n",
    "    #print(f\"Making {data_filename}\\n\\troads: {roads}\\n\\tprovinces: {provinces}\\n\\tcities: {cities}\\n\")\n",
    "    import_rows = extract(data_file)\n",
    "    \n",
    "    #pprint(import_rows[0])\n",
    "    import_dataframe = pandas.DataFrame(import_rows)\n",
    "\n",
    "    #cities_3857 = geopandas.read_file(CITIES_SHP).to_crs(epsg=3857)\n",
    "\n",
    "    point_geodataframe = geopandas.GeoDataFrame(\n",
    "    import_dataframe[import_dataframe.Longitude.notnull()],\n",
    "    geometry=geopandas.points_from_xy(\n",
    "    import_dataframe[import_dataframe.Longitude.notnull()].Longitude,\n",
    "    import_dataframe[import_dataframe.Longitude.notnull()].Latitude),\n",
    "    crs=\"EPSG:4326\")\n",
    "    point_geodataframe[['Latitude', 'Longitude']] = point_geodataframe[['Latitude', 'Longitude']].apply(pandas.to_numeric)\n",
    "    \n",
    "    def linkify(link_field):\n",
    "        if not link_field:\n",
    "            return None\n",
    "        if \" | \" in link_field:\n",
    "            links = ['']\n",
    "            for link in link_field.split(\" | \"):\n",
    "                \n",
    "                link = f\"<a href='{link}' target='_blank'>{tldextract.extract(link).registered_domain}</a>\"\n",
    "                links.append(link)\n",
    "            return f\"<ul>{'<li>'.join(links)}</ul>\"\n",
    "        return f\"<ul><li><a href='{link_field}' target='_blank'>{tldextract.extract(link_field).registered_domain}</a></li></ul>\"\n",
    "\n",
    "    point_geodataframe['Links'] = point_geodataframe['Links'].apply(linkify)\n",
    "\n",
    "    point_geodataframe['inscription'] = point_geodataframe['inscription'].apply(lambda x: textwrap.shorten(x, width=255))\n",
    "    \n",
    "    point_geodataframe_3857 = point_geodataframe.to_crs(epsg=epsg)\n",
    "    return point_geodataframe_3857\n",
    "\n",
    "output_maps ={}\n",
    "\n",
    "xmin, ymin, xmax, ymax = (0,0,10000,10000)\n",
    "\n",
    "\n",
    "for file in glob.glob(f\"{DATA_DIR}/*.tsv\"):\n",
    "    df =  makeDataframe(file, epsg=4326)\n",
    "    #pprint(df)\n",
    "    map_xmin, map_ymin, map_xmax, map_ymax = df.total_bounds\n",
    "\n",
    "    xmin = max(xmin, map_xmin)\n",
    "    ymin = max(ymin, map_ymin)\n",
    "    xmax = min(xmax, map_xmax)\n",
    "    ymax = min(ymax, map_ymax)\n",
    "    \n",
    "    output_maps[file] = df.to_json()\n",
    "\n",
    "\n",
    "\n",
    "    \n",
    "# Create a map using the Map() function and the coordinates for Boulder, CO\n",
    "scrape_map = folium.Map(location=[41.9028, 12.4964], \n",
    "                        zoom_start=5,\n",
    "                        \n",
    "                        #tiles='https://{s}.basemaps.cartocdn.com/light_nolabels/{z}/{x}/{y}{r}.png',\n",
    "                        #attr = '&copy; <a href=\"https://www.openstreetmap.org/copyright\">OpenStreetMap</a> contributors &copy; <a href=\"https://carto.com/attributions\">CARTO</a>',\n",
    "                        \n",
    "                        tiles = 'https://stamen-tiles-{s}.a.ssl.fastly.net/terrain-background/{z}/{x}/{y}.png',\n",
    "                       \tattr = 'Map tiles by <a href=\"http://stamen.com\">Stamen Design</a>, <a href=\"http://creativecommons.org/licenses/by/3.0\">CC BY 3.0</a> &mdash; Map data &copy; <a href=\"https://www.openstreetmap.org/copyright\">OpenStreetMap</a> contributors',\n",
    ")\n",
    "\n",
    "# Display the map\n",
    "\n",
    "scrape_map.fit_bounds([[ymin,xmin], [ymax,xmax]])\n",
    "\n",
    "#cities = folium.features.GeoJson(cities_geodataframe_4326.to_json()).add_to(scrape_map)\n",
    "# Running the above crashes the tab\n",
    "\n",
    "# scrape_map.add_child(cities)\n",
    "#https://leafletjs.com/reference-1.6.0.html#path-option\n",
    "road_style = {'color':'#000000',\n",
    "              'opacity': 0.5}\n",
    "roads = folium.features.GeoJson(roads_4326.to_json(),\n",
    "                                name='Roads',\n",
    "                                style_function=lambda x: road_style).add_to(scrape_map)\n",
    "\n",
    "\n",
    "\n",
    "\n",
    "#https://stackoverflow.com/a/45081821\n",
    "r = lambda: (random.randint(0,255))\n",
    "\n",
    "\n",
    "rand_color = randomcolor.RandomColor()\n",
    "def province_style(arg):\n",
    "    return {\n",
    "        'weight': 2,\n",
    "        'opacity': 1,\n",
    "        'color': '#000000',\n",
    "        'dashArray': 3,\n",
    "        'fillOpacity': 0.4,\n",
    "        'fillColor':  rand_color.generate(format_=\"hex\", luminosity=\"dark\"),\n",
    "    }\n",
    "provinces = folium.features.GeoJson(provinces_4326.to_json(), name='Province', style_function=province_style).add_to(scrape_map)\n",
    "\n",
    "\n",
    "\n",
    "def point_style(arg, map_name):\n",
    "    #print(map_name)\n",
    "    return {\n",
    "        'radius':5,\n",
    "        'weight': 4,\n",
    "        'opacity': 1,\n",
    "        'color': randomcolor.RandomColor(map_name).generate(format_=\"hex\", luminosity=\"bright\"),\n",
    "        'lineColor':\"#000000\",\n",
    "        'dashArray': 3,\n",
    "        'fillOpacity': 0.7,\n",
    "        'fillColor': randomcolor.RandomColor(map_name).generate(format_=\"hex\", luminosity=\"bright\"),\n",
    "    }\n",
    "for map_json in output_maps:\n",
    "    # https://github.com/python-visualization/folium/issues/1385\n",
    "    print(map_json)\n",
    "    folium.features.GeoJson(output_maps[map_json],\n",
    "                            name=f\"{map_json}\",\n",
    "                            style_function=lambda x: point_style(x,map_json),\n",
    "                            marker=folium.CircleMarker(),\n",
    "                            popup=folium.GeoJsonPopup([\"EDCS-ID\",\"Links\",\"inscription\"])\n",
    "                           ).add_to(scrape_map)\n",
    "\n",
    "folium.LayerControl().add_to(scrape_map)\n",
    "scrape_map"
   ]
  },
  {
   "cell_type": "code",
   "execution_count": null,
   "metadata": {},
   "outputs": [],
   "source": []
  }
 ],
 "metadata": {
  "celltoolbar": "Initialization Cell",
  "kernelspec": {
   "display_name": "Python 3 (ipykernel)",
   "language": "python",
   "name": "python3"
  },
  "language_info": {
   "codemirror_mode": {
    "name": "ipython",
    "version": 3
   },
   "file_extension": ".py",
   "mimetype": "text/x-python",
   "name": "python",
   "nbconvert_exporter": "python",
   "pygments_lexer": "ipython3",
   "version": "3.9.5"
  },
  "toc": {
   "base_numbering": 1,
   "nav_menu": {},
   "number_sections": true,
   "sideBar": true,
   "skip_h1_title": false,
   "title_cell": "Table of Contents",
   "title_sidebar": "Contents",
   "toc_cell": false,
   "toc_position": {},
   "toc_section_display": true,
   "toc_window_display": false
  }
 },
 "nbformat": 4,
 "nbformat_minor": 4
}
