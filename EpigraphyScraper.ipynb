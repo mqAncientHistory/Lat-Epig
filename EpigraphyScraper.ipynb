{
 "cells": [
  {
   "cell_type": "code",
   "execution_count": 1,
   "metadata": {
    "init_cell": true
   },
   "outputs": [
    {
     "data": {
      "text/html": [
       "<script>\n",
       "  function code_toggle() {\n",
       "    if (code_shown){\n",
       "      $('div.input').hide('500');\n",
       "      $('#toggleButton').val('Display code')\n",
       "    } else {\n",
       "      $('div.input').show('500');\n",
       "      $('#toggleButton').val('Hide Code')\n",
       "    }\n",
       "    code_shown = !code_shown\n",
       "  }\n",
       "\n",
       "  $( document ).ready(function(){\n",
       "    code_shown=false;\n",
       "    $('div.input').hide()\n",
       "  });\n",
       "</script>\n"
      ],
      "text/plain": [
       "<IPython.core.display.HTML object>"
      ]
     },
     "execution_count": 1,
     "metadata": {},
     "output_type": "execute_result"
    }
   ],
   "source": [
    "#https://stackoverflow.com/a/54594071\n",
    "from IPython.display import HTML\n",
    "\n",
    "HTML('''<script>\n",
    "  function code_toggle() {\n",
    "    if (code_shown){\n",
    "      $('div.input').hide('500');\n",
    "      $('#toggleButton').val('Display code')\n",
    "    } else {\n",
    "      $('div.input').show('500');\n",
    "      $('#toggleButton').val('Hide Code')\n",
    "    }\n",
    "    code_shown = !code_shown\n",
    "  }\n",
    "\n",
    "  $( document ).ready(function(){\n",
    "    code_shown=false;\n",
    "    $('div.input').hide()\n",
    "  });\n",
    "</script>\n",
    "''')\n"
   ]
  },
  {
   "cell_type": "markdown",
   "metadata": {},
   "source": [
    "# Latin Epigraphy Scraper v2.0\n",
    "\n",
    "*The Jupyter Notebook inteface for the LatEpig tool allows you to query all the inscriptions from EDCS in a reproducible manner:  it saves the search result in a TSV file and plots the results on a map of the Roman Empire without any prior knowledge of programming.* \n",
    "\n",
    "This programme allows to extracts the output of a search query from the [Epigraphik-Datenbank  Clauss / Slaby (EDCS)](http://www.manfredclauss.de/) in a reproducible manner and saves it as a TSV file. The output can be also plotted the output to a map of the Roman Empire, along with the system of Roman Provinces, roads, and cities. More on used datasets in the *Data Sources* section.  \n",
    "\n",
    "## Authors \n",
    "* [Brian Ballsun-Stanton, Macquarie University, ![](https://orcid.org/sites/default/files/images/orcid_16x16.png)](https://orcid.org/0000-0003-4932-7912)\n",
    "* [Petra Heřmánková, Aarhus University, ![](https://orcid.org/sites/default/files/images/orcid_16x16.png)](https://orcid.org/0000-0002-6349-0540)\n",
    "* [Ray Laurence, Macquarie University, ![](https://orcid.org/sites/default/files/images/orcid_16x16.png)](https://orcid.org/0000-0002-8229-1053)\n",
    "\n",
    "## Cite this software\n",
    "\n",
    "Ballsun-Stanton B., Heřmánková P., Laurence R. Lat Epig (version 2.0). GitHub. URL: https://github.com/mqAncientHistory/Lat-Epig/ DOI: 10.5281/zenodo.5211341\n",
    "    \n",
    "---\n",
    "\n",
    "## Data sources\n",
    "\n",
    "### Inscriptions\n",
    "The Epigraphik-Datenbank Clauss / Slaby (EDCS) is a digital collection of more than 500,000 Latin inscriptions, created by Prof. Manfred Clauss, Anne Kolb, Wolfgang A. Slaby, Barbara Woitas, and hosted by the Universitat Zurich and Katolische Universitat Eichstat-Ingoldstadt. For more see www.manfredclauss.de\n",
    "\n",
    "### Map\n",
    "_1. Roman Empire Boundaries & Provinces_\n",
    "\n",
    "[Ancient World Mapping Centre, political shading shapefiles](http://awmc.unc.edu/awmc/map_data/shapefiles/cultural_data/political_shading/), following the Barington Atlas of Greek Roman World, AWMC.UNC.EDU, under the Creative Commons Attribution-NonCommercial 4.0 International License.\n",
    "\n",
    "* Roman Empire 60 BC (provinces or extent)\n",
    "* Roman Empire in AD 14 (provinces or extent)\n",
    "* Roman Empire in AD 69 (provinces or extent)\n",
    "* Roman Empire in AD 117 (DEFAULT, provinces or extent)\n",
    "* Roman Empire in AD 200 (provinces or extent)\n",
    "\n",
    "_2. Roman Roads_\n",
    "* McCormick, M. et al. 2013. \"Roman Road Network (version 2008),\" DARMC Scholarly Data Series, Data Contribution Series #2013-5. DARMC, Center for Geographic Analysis, Harvard University, Cambridge MA 02138.\n",
    "\n",
    "* [Ancient World Mapping Centre, road shapefiles](http://awmc.unc.edu/awmc/map_data/shapefiles/ba_roads/), shapefile for roads, following the Barington Atlas of Greek Roman World, under the Creative Commons Attribution-NonCommercial 4.0 International License. Collection of shapefiles also vailable through the UCD Digital Library\n",
    "\n",
    "_3. Cities_\n",
    "\n",
    "The shapefile of the cities used in the map is based on Hanson, J. W. (2016). Cities Database (OXREP databases). Version 1.0. Accessed (date): http://oxrep.classics.ox.ac.uk/databases/cities/. DOI: https://doi.org/10.5287/bodleian:eqapevAn8. More info available through Hanson, J. W. (2016b). An Urban Geography of the Roman World, 100 B.C. to A.D. 300. Oxford: Archaeopress.\n",
    "\n",
    "---\n",
    "\n",
    "## Feedback\n",
    "\n",
    "If you're using this tool in your research, <!-- Place this tag where you want the button to render. -->\n",
    "<a class=\"github-button\" href=\"https://github.com/mqAncientHistory/Lat-Epig\" data-color-scheme=\"no-preference: light; light: light; dark: dark;\" data-icon=\"octicon-star\" data-show-count=\"true\" aria-label=\"Star mqAncientHistory/Lat-Epig on GitHub\">Star</a> us on Github! (This way, we don't need to put tracking pixels into this notebook to get a sense of how many folks are using our tool!) \n",
    "\n",
    "If you find a bug or have a feature request, raise an <!-- Place this tag where you want the button to render. -->\n",
    "<a class=\"github-button\" href=\"https://github.com/mqAncientHistory/Lat-Epig/issues\" data-color-scheme=\"no-preference: light; light: light; dark: dark;\" data-icon=\"octicon-issue-opened\" data-show-count=\"true\" aria-label=\"Issue mqAncientHistory/Lat-Epig on GitHub\">Issue</a>!\n",
    "\n",
    "---\n",
    "\n",
    "\n",
    "# How to search for inscriptions\n",
    "\n",
    "\n",
    "\n",
    "### Text search\n",
    "For simple **Text search** enter your search string into the *Text 1* field. Use Regular Expressions for more complex text string searches, or you can combine search of two terms using *Text 1* and *Text 2* fields, together with *AND*, *OR*, *NOT* operators.\n",
    "\n",
    "*Examples:* \n",
    "* To find all inscriptions containing the term **\"tumulus\"**, type tumulus in the *Text 1* field.\n",
    "* To search for word containing **\"via\"**, type \"via\". Warning - you will get over 12,000 outputs so it might be a good idea to use Regular Expressions to limit your search, see the following examples.\n",
    "* To search for any word **starting with \"via\"**, type \" via\" (note the space). You will get terms like *via, viator, viatore* ...\n",
    "* To search for any word **ending with \"via\"**, type \"via \" (note the space). You will get terms like *Fulvia, Flavia, Salvia* ...\n",
    "* To search **only for word \"via\"**, type \" via \" (note the spaces).\n",
    "* To find **two terms**, you can use *Text 1* + *operator* + *Text 2* fields: i.e. to find phrase \"viae OR adluvione maris\" type into *Text 1* \"via\", to *Text 2* \"adl\" and select the \"or\" *operator*. \n",
    "\n",
    "*More about Regular Expressions and how to use them, see the [Carpentries lesson](https://librarycarpentry.org/lc-data-intro/01-regular-expressions/)*\n",
    "\n",
    "### Additional parameters\n",
    "If you are interested in other than *Text search* or want to narrow down your searches further, you can use additional fields to specify your search. Those include:\n",
    "\n",
    "* **EDCS-ID** \n",
    "* **Publication**\n",
    "* **Place**\n",
    "* **Dating from** (enter as numeric in the following format YYYY, negative values for years BC, positive values for years AD, e.g. number -300 represents year 300 BC, number 56 represents the 56 AD)\n",
    "* **Dating to** (same format as Dating from)\n",
    "\n",
    "You can further limit your search by selecting one or more of the **Provinces**, and **Inscription Genus** (custom categorisation of inscriptions applied by EDCS).\n",
    "\n",
    "Once you are happy with your selection, press the **Get inscriptions!** button and wait for the result to show in the window below.\n",
    "\n",
    "### Download the results\n",
    "When the search is done, a total number of inscriptions found will show in the window below, together with two links to download the data in a **TSV file** and a **JSON file** format. Click on the format of your choice to download the link to your local computer. You can easily open a TSV file with your favourite spreadsheet software. For JSON file we recommend using either R or Python.\n",
    "\n",
    "Note that the *file name* in both formats contains the date of your search, source of the data and how it was accessed (EDCS via LatEpig) and any search parametres or their combinations you have used (*Term 1, Term 2, Dating from*...) and the number of inscriptions found. This way you will always remember what you have searched for and when you share the file with a colleague or students, they can always replicate your search to see if any new inscriptions were added to EDCS.\n",
    "\n",
    "#### Metadata for the downloaded files\n",
    "\n",
    "Each file contains the information from EDCS separated into 22 attributes. The [LatEpig Metadata description](https://github.com/mqAncientHistory/Lat-Epig/LatEpig_Metadata_Description.txt) document in the Github repo describes the contents of individual attributes along with their description and original source.\n",
    "\n",
    "**Happy explorations!**\n"
   ]
  },
  {
   "cell_type": "code",
   "execution_count": 2,
   "metadata": {
    "init_cell": true,
    "scrolled": false
   },
   "outputs": [
    {
     "data": {
      "text/html": [
       "<h1>Lat Epig v2.0</h1>"
      ],
      "text/plain": [
       "<IPython.core.display.HTML object>"
      ]
     },
     "metadata": {},
     "output_type": "display_data"
    },
    {
     "data": {
      "application/vnd.jupyter.widget-view+json": {
       "model_id": "ba7b8c91b16e489d8cc83c04c029a658",
       "version_major": 2,
       "version_minor": 0
      },
      "text/plain": [
       "Text(value='', description='Text 1:')"
      ]
     },
     "metadata": {},
     "output_type": "display_data"
    },
    {
     "data": {
      "application/vnd.jupyter.widget-view+json": {
       "model_id": "6f1aaf61f33f48b1a600e94100cad540",
       "version_major": 2,
       "version_minor": 0
      },
      "text/plain": [
       "ToggleButtons(description='Operator', options=('and', 'or', 'not'), value='and')"
      ]
     },
     "metadata": {},
     "output_type": "display_data"
    },
    {
     "data": {
      "application/vnd.jupyter.widget-view+json": {
       "model_id": "b2f154818f934a1d9679b14fe2ae51ec",
       "version_major": 2,
       "version_minor": 0
      },
      "text/plain": [
       "Text(value='', description='Text 2:')"
      ]
     },
     "metadata": {},
     "output_type": "display_data"
    },
    {
     "data": {
      "application/vnd.jupyter.widget-view+json": {
       "model_id": "43f0589ed19a4bca8721513d1b9b00a6",
       "version_major": 2,
       "version_minor": 0
      },
      "text/plain": [
       "Text(value='', description='EDCS-ID:')"
      ]
     },
     "metadata": {},
     "output_type": "display_data"
    },
    {
     "data": {
      "application/vnd.jupyter.widget-view+json": {
       "model_id": "c71bf65315f34114af3056e7f8af59fa",
       "version_major": 2,
       "version_minor": 0
      },
      "text/plain": [
       "Text(value='', description='Publication:')"
      ]
     },
     "metadata": {},
     "output_type": "display_data"
    },
    {
     "data": {
      "application/vnd.jupyter.widget-view+json": {
       "model_id": "46813f01e13443a7969d033d242f2871",
       "version_major": 2,
       "version_minor": 0
      },
      "text/plain": [
       "Text(value='', description='Place:')"
      ]
     },
     "metadata": {},
     "output_type": "display_data"
    },
    {
     "data": {
      "application/vnd.jupyter.widget-view+json": {
       "model_id": "2f1398f614ea4b338226b79df80e91e5",
       "version_major": 2,
       "version_minor": 0
      },
      "text/plain": [
       "Text(value='', description='Dating from:')"
      ]
     },
     "metadata": {},
     "output_type": "display_data"
    },
    {
     "data": {
      "application/vnd.jupyter.widget-view+json": {
       "model_id": "def4d4a1aea84843baabb670990abc70",
       "version_major": 2,
       "version_minor": 0
      },
      "text/plain": [
       "Text(value='', description='Dating to:')"
      ]
     },
     "metadata": {},
     "output_type": "display_data"
    },
    {
     "data": {
      "text/html": [
       "<div>Shift or Control click to select multiple items in the following lists</div>"
      ],
      "text/plain": [
       "<IPython.core.display.HTML object>"
      ]
     },
     "metadata": {},
     "output_type": "display_data"
    },
    {
     "data": {
      "application/vnd.jupyter.widget-view+json": {
       "model_id": "010c78fbb7c740a386a15c25e3d47230",
       "version_major": 2,
       "version_minor": 0
      },
      "text/plain": [
       "SelectMultiple(description='Province:', options=(None, 'Achaia', 'Aegyptus', 'Africa proconsularis', 'Alpes Co…"
      ]
     },
     "metadata": {},
     "output_type": "display_data"
    },
    {
     "data": {
      "application/vnd.jupyter.widget-view+json": {
       "model_id": "958e774b4ef9429ea928beee73e7b153",
       "version_major": 2,
       "version_minor": 0
      },
      "text/plain": [
       "Button(description='Inscription Genus...', style=ButtonStyle())"
      ]
     },
     "metadata": {},
     "output_type": "display_data"
    },
    {
     "data": {
      "application/vnd.jupyter.widget-view+json": {
       "model_id": "bd1b2b7813264dbbaada3ff44bc39386",
       "version_major": 2,
       "version_minor": 0
      },
      "text/plain": [
       "SelectMultiple(description='Inscription genus / personal status:', layout=Layout(display='none'), options=(Non…"
      ]
     },
     "metadata": {},
     "output_type": "display_data"
    },
    {
     "data": {
      "application/vnd.jupyter.widget-view+json": {
       "model_id": "0e7a773e39224846a291e9123707e04a",
       "version_major": 2,
       "version_minor": 0
      },
      "text/plain": [
       "SelectMultiple(description='and not:', layout=Layout(display='none'), options=(None, 'Augusti/Augustae', 'carm…"
      ]
     },
     "metadata": {},
     "output_type": "display_data"
    },
    {
     "data": {
      "application/vnd.jupyter.widget-view+json": {
       "model_id": "06d42f85c02d425c9761c72393a48452",
       "version_major": 2,
       "version_minor": 0
      },
      "text/plain": [
       "Button(description='Get inscriptions!', style=ButtonStyle())"
      ]
     },
     "metadata": {},
     "output_type": "display_data"
    },
    {
     "data": {
      "application/vnd.jupyter.widget-view+json": {
       "model_id": "a6ae14f14dab42f8bb6ac0da78735939",
       "version_major": 2,
       "version_minor": 0
      },
      "text/plain": [
       "Output(layout=Layout(border_bottom='1px solid black', border_left='1px solid black', border_right='1px solid b…"
      ]
     },
     "metadata": {},
     "output_type": "display_data"
    }
   ],
   "source": [
    "import warnings\n",
    "warnings.filterwarnings('ignore')\n",
    "from lat_epig.interface import makeScrapeInterface, Parseargs                    # loads the user friendly GUI\n",
    "makeScrapeInterface()"
   ]
  },
  {
   "cell_type": "markdown",
   "metadata": {},
   "source": [
    "# How to export results as a map \n",
    "\n",
    "*Once you have found your inscriptions, you can display them on a map of the Roman Empire and download that map for presentations, publications etc.*\n",
    "\n",
    "Use the following settings to adjust the map to display the borders of the Roman Empire in a given period, add/remove cities, and add/remove roads.\n",
    "\n",
    "The search parametres along with other metadata (source, tool used, date, number of results) will be printed on your map for the sake of reproducibility and transparency of your research output.\n",
    "\n",
    "@Petra continue once fixed"
   ]
  },
  {
   "cell_type": "code",
   "execution_count": 3,
   "metadata": {
    "init_cell": true
   },
   "outputs": [
    {
     "data": {
      "text/html": [
       "<h1>Export Map</h1>"
      ],
      "text/plain": [
       "<IPython.core.display.HTML object>"
      ]
     },
     "metadata": {},
     "output_type": "display_data"
    },
    {
     "data": {
      "application/vnd.jupyter.widget-view+json": {
       "model_id": "bff501c964dc4da7aca74bfa2abe00c0",
       "version_major": 2,
       "version_minor": 0
      },
      "text/plain": [
       "Button(description='Update Data File List', layout=Layout(width='max-content'), style=ButtonStyle())"
      ]
     },
     "metadata": {},
     "output_type": "display_data"
    },
    {
     "data": {
      "application/vnd.jupyter.widget-view+json": {
       "model_id": "c69c53944bb74c73b362fb563a921fe2",
       "version_major": 2,
       "version_minor": 0
      },
      "text/plain": [
       "Dropdown(description='Data File', layout=Layout(width='max-content'), options=(('2022-10-20-EDCS_via_Lat_Epig-…"
      ]
     },
     "metadata": {},
     "output_type": "display_data"
    },
    {
     "data": {
      "application/vnd.jupyter.widget-view+json": {
       "model_id": "541b67a54e7a43a791c8418c0ee054db",
       "version_major": 2,
       "version_minor": 0
      },
      "text/plain": [
       "Text(value='', description='Map Title:')"
      ]
     },
     "metadata": {},
     "output_type": "display_data"
    },
    {
     "data": {
      "application/vnd.jupyter.widget-view+json": {
       "model_id": "b86507936a0f41469b637b466c83401d",
       "version_major": 2,
       "version_minor": 0
      },
      "text/plain": [
       "Dropdown(description='Basemap', index=7, layout=Layout(width='max-content'), options=(('60 BC provinces', 'rom…"
      ]
     },
     "metadata": {},
     "output_type": "display_data"
    },
    {
     "data": {
      "application/vnd.jupyter.widget-view+json": {
       "model_id": "2e944eafd22d4812832908a5ecfcecb2",
       "version_major": 2,
       "version_minor": 0
      },
      "text/plain": [
       "RadioButtons(description='Show Provinces', layout=Layout(width='max-content'), options=(('All Provinces', True…"
      ]
     },
     "metadata": {},
     "output_type": "display_data"
    },
    {
     "data": {
      "application/vnd.jupyter.widget-view+json": {
       "model_id": "828ed77a320c40e1a81faf9b69384961",
       "version_major": 2,
       "version_minor": 0
      },
      "text/plain": [
       "RadioButtons(description='Basemap<br/>Styling', index=1, layout=Layout(width='max-content'), options=(('Light …"
      ]
     },
     "metadata": {},
     "output_type": "display_data"
    },
    {
     "data": {
      "application/vnd.jupyter.widget-view+json": {
       "model_id": "700c9d1875f74972b012059154bcd002",
       "version_major": 2,
       "version_minor": 0
      },
      "text/plain": [
       "RadioButtons(description='Show Roads', layout=Layout(width='max-content'), options=(('All Roman Roads', 'all')…"
      ]
     },
     "metadata": {},
     "output_type": "display_data"
    },
    {
     "data": {
      "application/vnd.jupyter.widget-view+json": {
       "model_id": "75d4b4bb1a95421eb59affcca24fcd89",
       "version_major": 2,
       "version_minor": 0
      },
      "text/plain": [
       "RadioButtons(description='Show Cities', layout=Layout(width='max-content'), options=(('All Cities', 'all'), ('…"
      ]
     },
     "metadata": {},
     "output_type": "display_data"
    },
    {
     "data": {
      "application/vnd.jupyter.widget-view+json": {
       "model_id": "84b2375f2a914d52aa8c8f09e625dcc5",
       "version_major": 2,
       "version_minor": 0
      },
      "text/plain": [
       "RadioButtons(description='Filetype', layout=Layout(width='max-content'), options=('png', 'tiff', 'eps', 'svg')…"
      ]
     },
     "metadata": {},
     "output_type": "display_data"
    },
    {
     "data": {
      "application/vnd.jupyter.widget-view+json": {
       "model_id": "791c31dddfea48a7af6f45cf06540b54",
       "version_major": 2,
       "version_minor": 0
      },
      "text/plain": [
       "RadioButtons(description='DPI', index=1, layout=Layout(width='max-content'), options=(72, 300, 600, 1200), val…"
      ]
     },
     "metadata": {},
     "output_type": "display_data"
    },
    {
     "data": {
      "application/vnd.jupyter.widget-view+json": {
       "model_id": "cdd163205df240a4ace783cabb1ba12b",
       "version_major": 2,
       "version_minor": 0
      },
      "text/plain": [
       "Checkbox(value=False, description='Label with Inscription IDs', layout=Layout(width='max-content'))"
      ]
     },
     "metadata": {},
     "output_type": "display_data"
    },
    {
     "data": {
      "application/vnd.jupyter.widget-view+json": {
       "model_id": "46cf0a76f01f491da3bb48c5f5cd2d0d",
       "version_major": 2,
       "version_minor": 0
      },
      "text/plain": [
       "Checkbox(value=False, description='(PDF Only) Append Inscriptions', layout=Layout(width='max-content'))"
      ]
     },
     "metadata": {},
     "output_type": "display_data"
    },
    {
     "data": {
      "application/vnd.jupyter.widget-view+json": {
       "model_id": "7721c106befb4c37930bec1286332d06",
       "version_major": 2,
       "version_minor": 0
      },
      "text/plain": [
       "RadioButtons(description='Map dimensions', layout=Layout(width='max-content'), options=(('Default', None), ('A…"
      ]
     },
     "metadata": {},
     "output_type": "display_data"
    },
    {
     "data": {
      "application/vnd.jupyter.widget-view+json": {
       "model_id": "18ae094c27f2432fa44a748190b0c6f9",
       "version_major": 2,
       "version_minor": 0
      },
      "text/plain": [
       "RadioButtons(description='Marker size for inscriptions', index=1, layout=Layout(width='max-content'), options=…"
      ]
     },
     "metadata": {},
     "output_type": "display_data"
    },
    {
     "data": {
      "application/vnd.jupyter.widget-view+json": {
       "model_id": "e515ae834f134a768eb551c53836f471",
       "version_major": 2,
       "version_minor": 0
      },
      "text/plain": [
       "Checkbox(value=False, description='Greyscale for publication. (You should probably use a different basemap).',…"
      ]
     },
     "metadata": {},
     "output_type": "display_data"
    },
    {
     "data": {
      "application/vnd.jupyter.widget-view+json": {
       "model_id": "359dff9b30fd4eada46266f1dfa49629",
       "version_major": 2,
       "version_minor": 0
      },
      "text/plain": [
       "RadioButtons(description='Citation', index=1, layout=Layout(width='max-content'), options=(('I will cite this …"
      ]
     },
     "metadata": {},
     "output_type": "display_data"
    },
    {
     "data": {
      "application/vnd.jupyter.widget-view+json": {
       "model_id": "b9fb610357cb4c9285353cfae11796e9",
       "version_major": 2,
       "version_minor": 0
      },
      "text/plain": [
       "Button(description='Export Desired Map!', layout=Layout(width='max-content'), style=ButtonStyle())"
      ]
     },
     "metadata": {},
     "output_type": "display_data"
    },
    {
     "data": {
      "text/html": [
       "<h2>Exported Map Output</h2>"
      ],
      "text/plain": [
       "<IPython.core.display.HTML object>"
      ]
     },
     "metadata": {},
     "output_type": "display_data"
    },
    {
     "data": {
      "application/vnd.jupyter.widget-view+json": {
       "model_id": "dd02e7f88ffe45e2871972dd9b3c23b0",
       "version_major": 2,
       "version_minor": 0
      },
      "text/plain": [
       "Output(layout=Layout(border_bottom='1px solid black', border_left='1px solid black', border_right='1px solid b…"
      ]
     },
     "metadata": {},
     "output_type": "display_data"
    }
   ],
   "source": [
    "# #https://discourse.jupyter.org/t/check-if-running-on-binder/635/6\n",
    "# import socket\n",
    "\n",
    "# hostname = socket.gethostname()\n",
    "# #print(hostname)\n",
    "\n",
    "# if \"jupyter-mqancienthistor\" not in hostname:\n",
    "from lat_epig.map_interface import make_map_interface\n",
    "make_map_interface()\n",
    "# else:\n",
    "#     display(HTML(\"<h1>PDF Map</h1>PDF Map currently disabled on binder because of memory issues. <br/>You should, if you want a PDF map, <a href='https://github.com/mqAncientHistory/EpigraphyScraperNotebook/blob/master/README.md#instructions-how-to-use-the-tool'>Install lat_epig locally in Docker</a> instead.\"))\n",
    "# print(\"Currently disabled due to bugs.\")\n"
   ]
  },
  {
   "cell_type": "markdown",
   "metadata": {},
   "source": [
    "# How to display an interactive map\n",
    "\n",
    "*Once you have found your inscriptions, you can display them on here on an interactive map of the Roman Empire. You can then interact with the results and click on the inscriptions to check their text and other available metadata.*\n",
    "\n",
    "To display an interactive map, there are three simple steps: \n",
    "1. Click on the **Update Data File List** to get the most recent searches.\n",
    "2. Select the desired search output from the **Data File** dropdown.\n",
    "3. Click on the **Refresh Interactive Map Output** to create a new interactive map and wait a few seconds. The new interactive map should show in the window below. Depending on the number of search outputs, this may take a minute or few (if you are trying to display more than 1000+ inscriptions).\n",
    "\n",
    "You can zoom-in or zoom-out to cluster or decluster inscriptions and click on the individual markers to display the avialable data or to go directly to EDCS database.\n",
    "\n",
    "@Brian, look at the go to EDCS link - can it go directly to that one inscription or to the entire search?"
   ]
  },
  {
   "cell_type": "code",
   "execution_count": 4,
   "metadata": {
    "init_cell": true
   },
   "outputs": [
    {
     "data": {
      "text/html": [
       "<h1>Interactive Map</h1>"
      ],
      "text/plain": [
       "<IPython.core.display.HTML object>"
      ]
     },
     "metadata": {},
     "output_type": "display_data"
    },
    {
     "data": {
      "application/vnd.jupyter.widget-view+json": {
       "model_id": "09f0edbad3b94470aafc0e60d85c66e1",
       "version_major": 2,
       "version_minor": 0
      },
      "text/plain": [
       "Button(description='Update Data File List', layout=Layout(width='max-content'), style=ButtonStyle())"
      ]
     },
     "metadata": {},
     "output_type": "display_data"
    },
    {
     "data": {
      "application/vnd.jupyter.widget-view+json": {
       "model_id": "f3f9d03285c84a0180d49b4950a482d1",
       "version_major": 2,
       "version_minor": 0
      },
      "text/plain": [
       "Dropdown(description='Data File', layout=Layout(width='max-content'), options=(('2022-10-20-EDCS_via_Lat_Epig-…"
      ]
     },
     "metadata": {},
     "output_type": "display_data"
    },
    {
     "data": {
      "application/vnd.jupyter.widget-view+json": {
       "model_id": "dfb5c3118a5f49a38a23abaa6a800673",
       "version_major": 2,
       "version_minor": 0
      },
      "text/plain": [
       "Button(description='Refresh Interactive Map!', layout=Layout(width='max-content'), style=ButtonStyle())"
      ]
     },
     "metadata": {},
     "output_type": "display_data"
    },
    {
     "data": {
      "text/html": [
       "<h2>Interactive Map Output</h2>"
      ],
      "text/plain": [
       "<IPython.core.display.HTML object>"
      ]
     },
     "metadata": {},
     "output_type": "display_data"
    },
    {
     "data": {
      "application/vnd.jupyter.widget-view+json": {
       "model_id": "e480f3079eef4927b460c8e5d903da64",
       "version_major": 2,
       "version_minor": 0
      },
      "text/plain": [
       "Output(layout=Layout(border_bottom='1px solid black', border_left='1px solid black', border_right='1px solid b…"
      ]
     },
     "metadata": {},
     "output_type": "display_data"
    }
   ],
   "source": [
    "from lat_epig.interactive_map_interface import make_i_map_interface\n",
    "make_i_map_interface()"
   ]
  },
  {
   "cell_type": "code",
   "execution_count": 5,
   "metadata": {},
   "outputs": [
    {
     "data": {
      "text/html": [
       "\n",
       "<form action=\"javascript:code_toggle()\"><input type=\"submit\" id=\"toggleButton\" value=\"Display code\"></form>\n",
       "<!-- Place this tag in your head or just before your close body tag. -->\n",
       "<script async defer src=\"https://buttons.github.io/buttons.js\"></script>\n"
      ],
      "text/plain": [
       "<IPython.core.display.HTML object>"
      ]
     },
     "execution_count": 5,
     "metadata": {},
     "output_type": "execute_result"
    }
   ],
   "source": [
    "HTML('''\n",
    "<form action=\"javascript:code_toggle()\"><input type=\"submit\" id=\"toggleButton\" value=\"Display code\"></form>\n",
    "<!-- Place this tag in your head or just before your close body tag. -->\n",
    "<script async defer src=\"https://buttons.github.io/buttons.js\"></script>\n",
    "''')"
   ]
  }
 ],
 "metadata": {
  "celltoolbar": "Initialization Cell",
  "kernelspec": {
   "display_name": "Python 3 (ipykernel)",
   "language": "python",
   "name": "python3"
  },
  "language_info": {
   "codemirror_mode": {
    "name": "ipython",
    "version": 3
   },
   "file_extension": ".py",
   "mimetype": "text/x-python",
   "name": "python",
   "nbconvert_exporter": "python",
   "pygments_lexer": "ipython3",
   "version": "3.10.4"
  },
  "toc": {
   "base_numbering": 1,
   "nav_menu": {},
   "number_sections": true,
   "sideBar": true,
   "skip_h1_title": false,
   "title_cell": "Table of Contents",
   "title_sidebar": "Contents",
   "toc_cell": false,
   "toc_position": {},
   "toc_section_display": true,
   "toc_window_display": false
  }
 },
 "nbformat": 4,
 "nbformat_minor": 4
}
