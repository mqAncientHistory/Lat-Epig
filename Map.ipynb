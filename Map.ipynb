{
 "cells": [
  {
   "cell_type": "markdown",
   "id": "6c7c69e7",
   "metadata": {},
   "source": [
    "# Publish *LatEpig* search results as a high-quality map\n",
    "\n",
    "*Once you have found the inscriptions you are interested in, you can create a publication-quality map of the Roman Empire and download that map for presentations, publications etc. using this experimental tool.*\n",
    "\n",
    "*WARNING: This feature is **experimental** and works only on Ubuntu 22.04+ (the myBinder and Docker versions run Ubuntu 22.04).*\n",
    "\n",
    "The search parametres along with other metadata (source, tool used, date, number of results) will be printed on your map for the sake of reproducibility and transparency of your research output. You can use a sereis of settings to adjust the map to display the borders of the Roman Empire in a given period, add/remove cities, and add/remove roads, for more details see the *Data sources* section.\n",
    "\n",
    "---\n",
    "\n",
    "## Data sources\n",
    "\n",
    "### Inscriptions\n",
    "The Epigraphik-Datenbank Clauss / Slaby (EDCS) is a digital collection of more than 500,000 Latin inscriptions, created by Prof. Manfred Clauss, Anne Kolb, Wolfgang A. Slaby, Barbara Woitas, and hosted by the Universitat Zurich and Katolische Universitat Eichstat-Ingoldstadt. For more see www.manfredclauss.de\n",
    "\n",
    "### Map\n",
    "_1. Roman Empire Boundaries & Provinces_\n",
    "\n",
    "[Ancient World Mapping Centre, political shading shapefiles](http://awmc.unc.edu/awmc/map_data/shapefiles/cultural_data/political_shading/), following the Barington Atlas of Greek Roman World, AWMC.UNC.EDU, under the Creative Commons Attribution-NonCommercial 4.0 International License.\n",
    "\n",
    "* Roman Empire 60 BC (provinces or extent)\n",
    "* Roman Empire in AD 14 (provinces or extent)\n",
    "* Roman Empire in AD 69 (provinces or extent)\n",
    "* Roman Empire in AD 117 (DEFAULT, provinces or extent)\n",
    "* Roman Empire in AD 200 (provinces or extent)\n",
    "\n",
    "_2. Roman Roads_\n",
    "* McCormick, M. et al. 2013. \"Roman Road Network (version 2008),\" DARMC Scholarly Data Series, Data Contribution Series #2013-5. DARMC, Center for Geographic Analysis, Harvard University, Cambridge MA 02138.\n",
    "\n",
    "* [Ancient World Mapping Centre, road shapefiles](http://awmc.unc.edu/awmc/map_data/shapefiles/ba_roads/), shapefile for roads, following the Barington Atlas of Greek Roman World, under the Creative Commons Attribution-NonCommercial 4.0 International License. Collection of shapefiles also vailable through the UCD Digital Library\n",
    "\n",
    "_3. Cities_\n",
    "\n",
    "The shapefile of the cities used in the map is based on Hanson, J. W. (2016). Cities Database (OXREP databases). Version 1.0. Accessed (date): http://oxrep.classics.ox.ac.uk/databases/cities/. DOI: https://doi.org/10.5287/bodleian:eqapevAn8. More info available through Hanson, J. W. (2016b). *An Urban Geography of the Roman World, 100 B.C. to A.D. 300.* Oxford: Archaeopress.\n",
    "\n",
    "--- \n",
    "\n",
    "## How to produce a map\n",
    "\n",
    "The interface below allows you to setup several parametres, such as data layers, format, DPI etc., or you can use the dafult settings (*the baseamap with provinces in 117 AD styled in colour, with roman roads and cities, PNG format with 300 DPI*).\n",
    "\n",
    "1. **First of all, go to the `Kernel` menu from the top bar of this Notebook and choose `Restart & Run All Cells` for the map interface to load properly.**\n",
    "1. Go to the *Export Map interface*, click to the **Update Data File List** button to update the list with latest searches. Then select the desired **Data file** in the dropdown menu.\n",
    "1. **Map Title**: You can provide your map with a title of your choosing. If you leave the field empty the search *Text 1* parametres will be used instead.\n",
    "1. Choose the **Basemap** corresponding the best with the spatial distribution of Roman probinces in a chronological period you wish to show. The default Basemap represents the highest extent of the Roman Empire in  117 AD.\n",
    "1. **Show Provinces**: You can choose whether you want to show on your map All Provinces, or only those containing at least one inscription. The default displays All Provinces.\n",
    "1. **Basemap Styling** allows you to style your map in *Light Brown* or *Multicolour*. The default uses the Multicolour settings.\n",
    "1. If you wish to publish your map in greyscale, tick the box **Greyscale map**. However, in that case we recommend using a different (i.e. less busy) basemap or remove roads and cities.\n",
    "1. **Show Roads**: You can choose whether you want to show on your map All Roman Roads, or only those in the vicinity of at least one inscription, or no roads. The default displays All Roman Roads.\n",
    "1. **Show Cities**: You can choose whether you want to show on your map All Cities, or only those in the vicinity of at least one inscription, or no cities. The default displays All Cities.\n",
    "1. **Filetype**: You can specify the file format the map should have. You can choose between PNG, TIFF, EPS, SVG and PDF format, or PDF with the metadata of inscriptions appended to it. The default format is PNG.\n",
    "1. **Label with Inscription IDs**: Tick this box if you wish to label all inscriptions with their IDs. *WARNING*: if you have more than few tens of inscriptions, the map can get extremely busy and illegible on an Epire-wide scale.\n",
    "1. **DPI**: You can set the DPI for your map. You can choose between 72, 300, 600, and 1200 DPI. The default is 300 DPI.\n",
    "1. **Marker size for inscriptions**: you can choose the size of the inscription markers (1, 5, 10, 20), with 5 being the default value.\n",
    "1. **Citation**: you can toggle between two options. The first one removes the citation from the map, the second one keeps it in. If you decide to remove the citation, we urge you to cite in the text of your research output for the sake of research transparency, integrity and as a mean of academic recognition for our efforts. \n",
    "\n",
    "> *Citation format: Ballsun-Stanton B., Heřmánková P., Laurence R. Lat Epig (version 2.0). GitHub. URL: https://github.com/mqAncientHistory/Lat-Epig/ DOI: 10.5281/zenodo.5211341*\n",
    "\n",
    "\n",
    "Once you are happy with the settings, click the **Export Desired Map!** button and the link to your map will show in the window below. To access it, click on the link and the map will open in a new tab. You can then download it to your local computer (if you are working on myBinder).\n",
    "\n",
    "If you don't like the map, change some of the settings and repeat the process. \n",
    "\n",
    "As this feature is still experimental, we welcome any feedback via the Github <a class=\"github-button\" href=\"https://github.com/mqAncientHistory/Lat-Epig/issues\" data-color-scheme=\"no-preference: light; light: light; dark: dark;\" data-icon=\"octicon-issue-opened\" data-show-count=\"true\" aria-label=\"Issue mqAncientHistory/Lat-Epig on GitHub\">Issue</a>!"
   ]
  },
  {
   "cell_type": "code",
   "execution_count": 1,
   "id": "5ede8455",
   "metadata": {},
   "outputs": [
    {
     "ename": "ModuleNotFoundError",
     "evalue": "No module named 'lat_epig'",
     "output_type": "error",
     "traceback": [
      "\u001b[0;31m---------------------------------------------------------------------------\u001b[0m",
      "\u001b[0;31mModuleNotFoundError\u001b[0m                       Traceback (most recent call last)",
      "\u001b[0;32m/tmp/ipykernel_25680/2798231370.py\u001b[0m in \u001b[0;36m<module>\u001b[0;34m\u001b[0m\n\u001b[1;32m      6\u001b[0m \u001b[0;34m\u001b[0m\u001b[0m\n\u001b[1;32m      7\u001b[0m \u001b[0;31m# if \"jupyter-mqancienthistor\" not in hostname:\u001b[0m\u001b[0;34m\u001b[0m\u001b[0;34m\u001b[0m\u001b[0;34m\u001b[0m\u001b[0m\n\u001b[0;32m----> 8\u001b[0;31m \u001b[0;32mfrom\u001b[0m \u001b[0mlat_epig\u001b[0m\u001b[0;34m.\u001b[0m\u001b[0mmap_interface\u001b[0m \u001b[0;32mimport\u001b[0m \u001b[0mmake_map_interface\u001b[0m\u001b[0;34m\u001b[0m\u001b[0;34m\u001b[0m\u001b[0m\n\u001b[0m\u001b[1;32m      9\u001b[0m \u001b[0mmake_map_interface\u001b[0m\u001b[0;34m(\u001b[0m\u001b[0;34m)\u001b[0m\u001b[0;34m\u001b[0m\u001b[0;34m\u001b[0m\u001b[0m\n\u001b[1;32m     10\u001b[0m \u001b[0;31m# else:\u001b[0m\u001b[0;34m\u001b[0m\u001b[0;34m\u001b[0m\u001b[0;34m\u001b[0m\u001b[0m\n",
      "\u001b[0;31mModuleNotFoundError\u001b[0m: No module named 'lat_epig'"
     ]
    }
   ],
   "source": [
    "# #https://discourse.jupyter.org/t/check-if-running-on-binder/635/6\n",
    "# import socket\n",
    "\n",
    "# hostname = socket.gethostname()\n",
    "# #print(hostname)\n",
    "\n",
    "# if \"jupyter-mqancienthistor\" not in hostname:\n",
    "from lat_epig.map_interface import make_map_interface\n",
    "make_map_interface()\n",
    "# else:\n",
    "#     display(HTML(\"<h1>PDF Map</h1>PDF Map currently disabled on binder because of memory issues. <br/>You should, if you want a PDF map, <a href='https://github.com/mqAncientHistory/EpigraphyScraperNotebook/blob/master/README.md#instructions-how-to-use-the-tool'>Install lat_epig locally in Docker</a> instead.\"))\n",
    "# print(\"Currently disabled due to bugs.\")\n"
   ]
  },
  {
   "cell_type": "code",
   "execution_count": null,
   "id": "4d88d780",
   "metadata": {},
   "outputs": [],
   "source": []
  }
 ],
 "metadata": {
  "kernelspec": {
   "display_name": "Python 3 (ipykernel)",
   "language": "python",
   "name": "python3"
  },
  "language_info": {
   "codemirror_mode": {
    "name": "ipython",
    "version": 3
   },
   "file_extension": ".py",
   "mimetype": "text/x-python",
   "name": "python",
   "nbconvert_exporter": "python",
   "pygments_lexer": "ipython3",
   "version": "3.8.10"
  }
 },
 "nbformat": 4,
 "nbformat_minor": 5
}
