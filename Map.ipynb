{
 "cells": [
  {
   "cell_type": "markdown",
   "id": "6c7c69e7",
   "metadata": {},
   "source": [
    "# Publish *LatEpig* search results as a high-quality map\n",
    "\n",
    "*Once you have found the inscriptions you are interested in, you can create a publication-quality map of the Roman Empire and download that map for presentations, publications etc. using this experimental tool.*\n",
    "\n",
    "*WARNING: This feature is **experimental** and works only on Ubuntu 22.04+ (the myBinder and Docker versions run Ubuntu 22.04).*\n",
    "\n",
    "The search parametres along with other metadata (source, tool used, date, number of results) will be printed on your map for the sake of reproducibility and transparency of your research output. You can use a sereis of settings to adjust the map to display the borders of the Roman Empire in a given period, add/remove cities, and add/remove roads, for more details see the *Data sources* section.\n",
    "\n",
    "---\n",
    "\n",
    "## Data sources\n",
    "\n",
    "### Inscriptions\n",
    "The Epigraphik-Datenbank Clauss / Slaby (EDCS) is a digital collection of more than 500,000 Latin inscriptions, created by Prof. Manfred Clauss, Anne Kolb, Wolfgang A. Slaby, Barbara Woitas, and hosted by the Universitat Zurich and Katolische Universitat Eichstat-Ingoldstadt. For more see www.manfredclauss.de\n",
    "\n",
    "### Map\n",
    "_1. Roman Empire Boundaries & Provinces_\n",
    "\n",
    "[Ancient World Mapping Centre, political shading shapefiles](http://awmc.unc.edu/awmc/map_data/shapefiles/cultural_data/political_shading/), following the Barington Atlas of Greek Roman World, AWMC.UNC.EDU, under the Creative Commons Attribution-NonCommercial 4.0 International License.\n",
    "\n",
    "* Roman Empire 60 BC (provinces or extent)\n",
    "* Roman Empire in AD 14 (provinces or extent)\n",
    "* Roman Empire in AD 69 (provinces or extent)\n",
    "* Roman Empire in AD 117 (DEFAULT, provinces or extent)\n",
    "* Roman Empire in AD 200 (provinces or extent)\n",
    "\n",
    "_2. Roman Roads_\n",
    "* McCormick, M. et al. 2013. \"Roman Road Network (version 2008),\" DARMC Scholarly Data Series, Data Contribution Series #2013-5. DARMC, Center for Geographic Analysis, Harvard University, Cambridge MA 02138.\n",
    "\n",
    "* [Ancient World Mapping Centre, road shapefiles](http://awmc.unc.edu/awmc/map_data/shapefiles/ba_roads/), shapefile for roads, following the Barington Atlas of Greek Roman World, under the Creative Commons Attribution-NonCommercial 4.0 International License. Collection of shapefiles also vailable through the UCD Digital Library\n",
    "\n",
    "_3. Cities_\n",
    "\n",
    "The shapefile of the cities used in the map is based on Hanson, J. W. (2016). Cities Database (OXREP databases). Version 1.0. Accessed (date): http://oxrep.classics.ox.ac.uk/databases/cities/. DOI: https://doi.org/10.5287/bodleian:eqapevAn8. More info available through Hanson, J. W. (2016b). *An Urban Geography of the Roman World, 100 B.C. to A.D. 300.* Oxford: Archaeopress.\n",
    "\n",
    "--- \n",
    "\n",
    "## How to produce a map\n",
    "\n",
    "The interface below allows you to setup several parametres, such as data layers, format, DPI etc., or you can use the dafult settings (*the baseamap with provinces in 117 AD styled in colour, with roman roads and cities, PNG format with 300 DPI).\n",
    "\n",
    "1. First you need to click to the **Update the Data File List** button to update the list with latest searches. Then select the desired **Data file** in the dropdown menu.\n",
    "1. **Map Title**: You can provide your map with a title of your choosing. If you leave the field empty the search *Text 1* will be used instead.\n",
    "1. Choose the **Basemap** corresponding the best with the spatial distribution of Roman probinces in a chronological period you wish to show. The default Basemap represents the highest extent of the Roman Empire in  117 AD.\n",
    "1. **Show Provinces**: You can choose whether you want to show on your map All Provinces, or only those containing at least one inscription. The default displays All Provinces.\n",
    "1. **Basemap Styling** allows you to style your map in *Light Brown* or *Multicolour*. The default uses the Multicolour settings.\n",
    "1. **Show Roads**: You can choose whether you want to show on your map All Roman Roads, or only those in the vicinity of at least one inscription. The default displays All Roman Roads.\n",
    "1. **Show Cities**: You can choose whether you want to show on your map All Cities, or only those in the vicinity of at least one inscription. The default displays All Cities.\n",
    "1. **Filetype**: You can specify the file format the map should have. You can choose between PNG, TIFF, EPS and SVG format. The default is PNG.\n",
    "1. **DPI**: You can set the DPI for your map. You can choose between 72, 300, 600, and 1200 DPI. The default is 300 DPI.\n",
    "1. **Label with Inscription IDs**: Tick this box if you wish to label all inscriptions with their IDs. WARNING: if you have more than few tens of inscriptions, the map can get extremely busy and illegible.\n",
    "1. **Append Inscriptions (PDF Only)** allows you to append all inscriptions displayed on the map and their metadata to the PDF file. Please note, this functionality only works for the PDF format.\n",
    "1. **Map Dimensions**: you can choose the size of your map (A3, A4, A5). There is no default.\n",
    "1. **Marker size for inscriptions**: you can choose the size of the inscription markers (1, 5, 10, 20), with 5 being the default value.\n",
    "1. If you wish to puslish your map in greyscale, tick the box **Greyscale**. However, in that case we recommend using a different (i.e. less busy) basemap.\n",
    "1. **Citation**: you can toggle between two options. The first one will remove the citation from the map, the second one will keep it in. If you decide to remove the citation, we highly recommend to cite in the text of your research output for the sake of research transparency, integrity and as a mean of academic reward for our efforts. \n",
    "\n",
    "> *Citation format: Ballsun-Stanton B., Heřmánková P., Laurence R. Lat Epig (version 2.0). GitHub. URL: https://github.com/mqAncientHistory/Lat-Epig/ DOI: 10.5281/zenodo.5211341*\n",
    "\n",
    "\n",
    "Once you are happy with the settings, click the **Export Desired Map!** button and the link to your map will show in the window below. To access it, click on the link and the map will open in a new tab. You can download it to your local computer."
   ]
  },
  {
   "cell_type": "code",
   "execution_count": 1,
   "id": "5ede8455",
   "metadata": {},
   "outputs": [
    {
     "data": {
      "text/html": [
       "<h1>Export Map</h1>"
      ],
      "text/plain": [
       "<IPython.core.display.HTML object>"
      ]
     },
     "metadata": {},
     "output_type": "display_data"
    },
    {
     "data": {
      "application/vnd.jupyter.widget-view+json": {
       "model_id": "9c9c2867a5b847fb9a3b53751fa9fb12",
       "version_major": 2,
       "version_minor": 0
      },
      "text/plain": [
       "Button(description='Update Data File List', layout=Layout(width='max-content'), style=ButtonStyle())"
      ]
     },
     "metadata": {},
     "output_type": "display_data"
    },
    {
     "data": {
      "application/vnd.jupyter.widget-view+json": {
       "model_id": "88185190d7c74eadb8eaf4110b21a700",
       "version_major": 2,
       "version_minor": 0
      },
      "text/plain": [
       "Dropdown(description='Data File', layout=Layout(width='max-content'), options=(('2022-10-20-EDCS_via_Lat_Epig-…"
      ]
     },
     "metadata": {},
     "output_type": "display_data"
    },
    {
     "data": {
      "application/vnd.jupyter.widget-view+json": {
       "model_id": "45c10c7752d34ed4bc3cd61b93c22948",
       "version_major": 2,
       "version_minor": 0
      },
      "text/plain": [
       "Text(value='', description='Map Title:')"
      ]
     },
     "metadata": {},
     "output_type": "display_data"
    },
    {
     "data": {
      "application/vnd.jupyter.widget-view+json": {
       "model_id": "5e63f61e274b4735a3673bcf12634304",
       "version_major": 2,
       "version_minor": 0
      },
      "text/plain": [
       "Dropdown(description='Basemap', index=7, layout=Layout(width='max-content'), options=(('60 BC provinces', 'rom…"
      ]
     },
     "metadata": {},
     "output_type": "display_data"
    },
    {
     "data": {
      "application/vnd.jupyter.widget-view+json": {
       "model_id": "c448a1a61fb84348911f30e26cc15044",
       "version_major": 2,
       "version_minor": 0
      },
      "text/plain": [
       "RadioButtons(description='Show Provinces', layout=Layout(width='max-content'), options=(('All Provinces', True…"
      ]
     },
     "metadata": {},
     "output_type": "display_data"
    },
    {
     "data": {
      "application/vnd.jupyter.widget-view+json": {
       "model_id": "190f9e38d7f54ec699a903aade4568e7",
       "version_major": 2,
       "version_minor": 0
      },
      "text/plain": [
       "RadioButtons(description='Basemap<br/>Styling', index=1, layout=Layout(width='max-content'), options=(('Light …"
      ]
     },
     "metadata": {},
     "output_type": "display_data"
    },
    {
     "data": {
      "application/vnd.jupyter.widget-view+json": {
       "model_id": "18c71bd231ef4de48fce4cadf75e304f",
       "version_major": 2,
       "version_minor": 0
      },
      "text/plain": [
       "RadioButtons(description='Show Roads', layout=Layout(width='max-content'), options=(('All Roman Roads', 'all')…"
      ]
     },
     "metadata": {},
     "output_type": "display_data"
    },
    {
     "data": {
      "application/vnd.jupyter.widget-view+json": {
       "model_id": "078ca95a8e8742959d6beb59490b595a",
       "version_major": 2,
       "version_minor": 0
      },
      "text/plain": [
       "RadioButtons(description='Show Cities', layout=Layout(width='max-content'), options=(('All Cities', 'all'), ('…"
      ]
     },
     "metadata": {},
     "output_type": "display_data"
    },
    {
     "data": {
      "application/vnd.jupyter.widget-view+json": {
       "model_id": "d62bb35ba71a4b41a627625fc36197d3",
       "version_major": 2,
       "version_minor": 0
      },
      "text/plain": [
       "RadioButtons(description='Filetype', layout=Layout(width='max-content'), options=('png', 'tiff', 'eps', 'svg')…"
      ]
     },
     "metadata": {},
     "output_type": "display_data"
    },
    {
     "data": {
      "application/vnd.jupyter.widget-view+json": {
       "model_id": "8f957c39e3b04728b02c6c09fc39f82a",
       "version_major": 2,
       "version_minor": 0
      },
      "text/plain": [
       "RadioButtons(description='DPI', index=1, layout=Layout(width='max-content'), options=(72, 300, 600, 1200), val…"
      ]
     },
     "metadata": {},
     "output_type": "display_data"
    },
    {
     "data": {
      "application/vnd.jupyter.widget-view+json": {
       "model_id": "7712635aedf04436a314c7eb54834dad",
       "version_major": 2,
       "version_minor": 0
      },
      "text/plain": [
       "Checkbox(value=False, description='Label with Inscription IDs', layout=Layout(width='max-content'))"
      ]
     },
     "metadata": {},
     "output_type": "display_data"
    },
    {
     "data": {
      "application/vnd.jupyter.widget-view+json": {
       "model_id": "349e320bd35c497fb653d4924d51b94d",
       "version_major": 2,
       "version_minor": 0
      },
      "text/plain": [
       "Checkbox(value=False, description='(PDF Only) Append Inscriptions', layout=Layout(width='max-content'))"
      ]
     },
     "metadata": {},
     "output_type": "display_data"
    },
    {
     "data": {
      "application/vnd.jupyter.widget-view+json": {
       "model_id": "38dcdf19b0bf49768644905ce2f6c23a",
       "version_major": 2,
       "version_minor": 0
      },
      "text/plain": [
       "RadioButtons(description='Map dimensions', layout=Layout(width='max-content'), options=(('Default', None), ('A…"
      ]
     },
     "metadata": {},
     "output_type": "display_data"
    },
    {
     "data": {
      "application/vnd.jupyter.widget-view+json": {
       "model_id": "bed17594151a4cf6b34f0e450cb5f431",
       "version_major": 2,
       "version_minor": 0
      },
      "text/plain": [
       "RadioButtons(description='Marker size for inscriptions', index=1, layout=Layout(width='max-content'), options=…"
      ]
     },
     "metadata": {},
     "output_type": "display_data"
    },
    {
     "data": {
      "application/vnd.jupyter.widget-view+json": {
       "model_id": "5d6db75e791c4db9af8af978c4b2c712",
       "version_major": 2,
       "version_minor": 0
      },
      "text/plain": [
       "Checkbox(value=False, description='Greyscale for publication. (You should probably use a different basemap).',…"
      ]
     },
     "metadata": {},
     "output_type": "display_data"
    },
    {
     "data": {
      "application/vnd.jupyter.widget-view+json": {
       "model_id": "8e5e0968caca447e8b8a027d1c8e95ad",
       "version_major": 2,
       "version_minor": 0
      },
      "text/plain": [
       "RadioButtons(description='Citation', index=1, layout=Layout(width='max-content'), options=(('I will cite this …"
      ]
     },
     "metadata": {},
     "output_type": "display_data"
    },
    {
     "data": {
      "application/vnd.jupyter.widget-view+json": {
       "model_id": "31d73b662a9b40d280419c8411b30fda",
       "version_major": 2,
       "version_minor": 0
      },
      "text/plain": [
       "Button(description='Export Desired Map!', layout=Layout(width='max-content'), style=ButtonStyle())"
      ]
     },
     "metadata": {},
     "output_type": "display_data"
    },
    {
     "data": {
      "text/html": [
       "<h2>Exported Map Output</h2>"
      ],
      "text/plain": [
       "<IPython.core.display.HTML object>"
      ]
     },
     "metadata": {},
     "output_type": "display_data"
    },
    {
     "data": {
      "application/vnd.jupyter.widget-view+json": {
       "model_id": "3ace2a7ad66e4683af9885ada581aac8",
       "version_major": 2,
       "version_minor": 0
      },
      "text/plain": [
       "Output(layout=Layout(border_bottom='1px solid black', border_left='1px solid black', border_right='1px solid b…"
      ]
     },
     "metadata": {},
     "output_type": "display_data"
    }
   ],
   "source": [
    "# #https://discourse.jupyter.org/t/check-if-running-on-binder/635/6\n",
    "# import socket\n",
    "\n",
    "# hostname = socket.gethostname()\n",
    "# #print(hostname)\n",
    "\n",
    "# if \"jupyter-mqancienthistor\" not in hostname:\n",
    "from lat_epig.map_interface import make_map_interface\n",
    "make_map_interface()\n",
    "# else:\n",
    "#     display(HTML(\"<h1>PDF Map</h1>PDF Map currently disabled on binder because of memory issues. <br/>You should, if you want a PDF map, <a href='https://github.com/mqAncientHistory/EpigraphyScraperNotebook/blob/master/README.md#instructions-how-to-use-the-tool'>Install lat_epig locally in Docker</a> instead.\"))\n",
    "# print(\"Currently disabled due to bugs.\")\n"
   ]
  },
  {
   "cell_type": "code",
   "execution_count": null,
   "id": "4d88d780",
   "metadata": {},
   "outputs": [],
   "source": []
  }
 ],
 "metadata": {
  "kernelspec": {
   "display_name": "Python 3 (ipykernel)",
   "language": "python",
   "name": "python3"
  },
  "language_info": {
   "codemirror_mode": {
    "name": "ipython",
    "version": 3
   },
   "file_extension": ".py",
   "mimetype": "text/x-python",
   "name": "python",
   "nbconvert_exporter": "python",
   "pygments_lexer": "ipython3",
   "version": "3.10.4"
  }
 },
 "nbformat": 4,
 "nbformat_minor": 5
}
